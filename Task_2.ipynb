{
  "nbformat": 4,
  "nbformat_minor": 0,
  "metadata": {
    "colab": {
      "name": "Task_2.ipynb",
      "provenance": [],
      "authorship_tag": "ABX9TyO1KjgZRGZ1kPtQNK/dSoaW",
      "include_colab_link": true
    },
    "kernelspec": {
      "name": "python3",
      "display_name": "Python 3"
    },
    "language_info": {
      "name": "python"
    }
  },
  "cells": [
    {
      "cell_type": "markdown",
      "metadata": {
        "id": "view-in-github",
        "colab_type": "text"
      },
      "source": [
        "<a href=\"https://colab.research.google.com/github/kvraagul/Innomatics_Internship_APR_21/blob/main/Task_2.ipynb\" target=\"_parent\"><img src=\"https://colab.research.google.com/assets/colab-badge.svg\" alt=\"Open In Colab\"/></a>"
      ]
    },
    {
      "cell_type": "markdown",
      "metadata": {
        "id": "djnQVRGSPTvK"
      },
      "source": [
        "**INNOMATICS INTERNSHIP APRIL 2021**\n",
        "\n",
        "**TASK 2**"
      ]
    },
    {
      "cell_type": "code",
      "metadata": {
        "colab": {
          "base_uri": "https://localhost:8080/"
        },
        "id": "ipgNlFTaOOhZ",
        "outputId": "ac5fc3e6-bbd0-48fb-ae4f-1e0cbe34ae34"
      },
      "source": [
        "#Nested Lists\n",
        "\n",
        "if __name__ == '__main__':\n",
        "    final_list =[]\n",
        "    marks=[]\n",
        "    for _ in range(int(input())):\n",
        "        l= list()\n",
        "        l.append(input())\n",
        "        score = float(input())\n",
        "        l.append(score)\n",
        "        marks.append(score)\n",
        "        final_list.append(l)\n",
        "    marks.sort()\n",
        "    min_value = marks[0]\n",
        "    marks.remove(min_value)\n",
        "    for i in marks:\n",
        "        if i>min_value:\n",
        "            Result_value = i\n",
        "            break\n",
        "    Result_names=[]\n",
        "    for i in range(len(final_list)):\n",
        "        if Result_value in final_list[i]:\n",
        "            Result_names.append(final_list[i][0])\n",
        "    Result_names.sort()\n",
        "    for i in Result_names:\n",
        "        print(i)"
      ],
      "execution_count": 2,
      "outputs": [
        {
          "output_type": "stream",
          "text": [
            "5\n",
            "Harry\n",
            "43.3\n",
            "Berry\n",
            "6\n",
            "Cherry\n",
            "78\n",
            "Soori\n",
            "9.32\n",
            "RAt\n",
            "10\n",
            "Soori\n"
          ],
          "name": "stdout"
        }
      ]
    },
    {
      "cell_type": "code",
      "metadata": {
        "colab": {
          "base_uri": "https://localhost:8080/"
        },
        "id": "To3y0TfzQcW-",
        "outputId": "c67818e8-2f75-4d15-d3d9-22a5a8d628aa"
      },
      "source": [
        "# List Comprehension\n",
        "\n",
        "if __name__ == '__main__':\n",
        "    x = int(input())\n",
        "    y = int(input())\n",
        "    z = int(input())\n",
        "    n = int(input())\n",
        "    \n",
        "    end_list=[]\n",
        "    \n",
        "    for i in range(1+x):\n",
        "        for j in range(1+y):\n",
        "            for k in range(1+z):\n",
        "                if i+j+k!=n:\n",
        "                    A=[i,j,k]\n",
        "                    end_list.append(A)\n",
        "                else:\n",
        "                    continue\n",
        "                \n",
        "    print(end_list)               \n"
      ],
      "execution_count": 4,
      "outputs": [
        {
          "output_type": "stream",
          "text": [
            "2\n",
            "2\n",
            "2\n",
            "2\n",
            "[[0, 0, 0], [0, 0, 1], [0, 1, 0], [0, 1, 2], [0, 2, 1], [0, 2, 2], [1, 0, 0], [1, 0, 2], [1, 1, 1], [1, 1, 2], [1, 2, 0], [1, 2, 1], [1, 2, 2], [2, 0, 1], [2, 0, 2], [2, 1, 0], [2, 1, 1], [2, 1, 2], [2, 2, 0], [2, 2, 1], [2, 2, 2]]\n"
          ],
          "name": "stdout"
        }
      ]
    },
    {
      "cell_type": "code",
      "metadata": {
        "colab": {
          "base_uri": "https://localhost:8080/"
        },
        "id": "Cu-BdI1vRjcp",
        "outputId": "5ace7202-6b95-49d8-c3ca-9299a630a4a5"
      },
      "source": [
        "# Find the Runner Up\n",
        "\n",
        "if __name__ == '__main__':\n",
        "    n = int(input())\n",
        "    arr = list(map(int, input().split()))\n",
        "    arr.sort()\n",
        "    max1=arr[-1]\n",
        "    arr.sort(reverse=True)\n",
        "    for i in arr:\n",
        "        if i!=max1:\n",
        "            result = i\n",
        "            print(result)\n",
        "            break\n"
      ],
      "execution_count": 5,
      "outputs": [
        {
          "output_type": "stream",
          "text": [
            "5\n",
            "2 3 6 6 5\n",
            "5\n"
          ],
          "name": "stdout"
        }
      ]
    },
    {
      "cell_type": "code",
      "metadata": {
        "colab": {
          "base_uri": "https://localhost:8080/"
        },
        "id": "6Q69OfBnRjio",
        "outputId": "de6cbdd1-64e2-41aa-e7e1-15dd7d71af34"
      },
      "source": [
        "# Finding the Percentage\n",
        "\n",
        "if __name__ == '__main__':\n",
        "    n = int(input())\n",
        "    student_marks = {}\n",
        "    for _ in range(n):\n",
        "        name, *line = input().split()\n",
        "        scores = list(map(float, line))\n",
        "        student_marks[name] = scores\n",
        "    query_name = input()\n",
        "    for i in student_marks:\n",
        "        j = student_marks.get(i)\n",
        "        if i==query_name:\n",
        "            result = 0\n",
        "            for k in j:\n",
        "                result+= float(k)\n",
        "            print(\"{:.2f}\".format((result/len(j))))\n",
        "            break\n",
        "        else:\n",
        "            continue"
      ],
      "execution_count": 7,
      "outputs": [
        {
          "output_type": "stream",
          "text": [
            "3\n",
            "k 60 70 80\n",
            "r 40 50 60 \n",
            "v 70 80 50 \n",
            "v\n",
            "66.67\n"
          ],
          "name": "stdout"
        }
      ]
    },
    {
      "cell_type": "code",
      "metadata": {
        "colab": {
          "base_uri": "https://localhost:8080/"
        },
        "id": "igFr7gviS8Z1",
        "outputId": "d51bd555-3c88-4777-dfea-fc5eb1d65d49"
      },
      "source": [
        "# Lists\n",
        "\n",
        "if __name__ == '__main__':\n",
        "    lst = []\n",
        "    N = int(input())\n",
        "    for i in range(N):\n",
        "        mn= list(input(\"\").split(\" \"))\n",
        "        \n",
        "        if mn[0]==\"insert\":\n",
        "            a , b = map(int , (mn[1],mn[2]))\n",
        "            lst.insert(a,b)\n",
        "            \n",
        "        elif mn[0]==\"print\":\n",
        "            print(lst)\n",
        "            \n",
        "        elif mn[0]==\"remove\":\n",
        "                lst.remove(int(mn[1]))\n",
        "\n",
        "        elif mn[0]==\"append\":\n",
        "            lst.append(int(mn[1]))\n",
        "            \n",
        "        elif mn[0]==\"sort\":\n",
        "            lst.sort()\n",
        "        \n",
        "        elif mn[0]==\"pop\":\n",
        "            \n",
        "            lst.pop()\n",
        "        elif mn[0]==\"reverse\":\n",
        "            lst.reverse()po"
      ],
      "execution_count": 8,
      "outputs": [
        {
          "output_type": "stream",
          "text": [
            "12\n",
            "insert 0 5\n",
            "insert 1 10\n",
            "insert 0 6\n",
            "print\n",
            "[6, 5, 10]\n",
            "remove 6\n",
            "append 9\n",
            "append 1\n",
            "sort\n",
            "print\n",
            "[1, 5, 9, 10]\n",
            "pop\n",
            "reverse\n",
            "print\n",
            "[9, 5, 1]\n"
          ],
          "name": "stdout"
        }
      ]
    },
    {
      "cell_type": "code",
      "metadata": {
        "colab": {
          "base_uri": "https://localhost:8080/"
        },
        "id": "Q9BCPXnoTddV",
        "outputId": "1e8a735c-05a0-4ddb-b8ca-b43f19d97eec"
      },
      "source": [
        "# Tuples\n",
        "\n",
        "if __name__ == '__main__':\n",
        "    n = int(input())\n",
        "    integer_list = tuple(map(int, input().split()))\n",
        "    print(hash(integer_list))"
      ],
      "execution_count": 9,
      "outputs": [
        {
          "output_type": "stream",
          "text": [
            "2\n",
            "1 2\n",
            "3713081631934410656\n"
          ],
          "name": "stdout"
        }
      ]
    },
    {
      "cell_type": "code",
      "metadata": {
        "colab": {
          "base_uri": "https://localhost:8080/"
        },
        "id": "mZWi-mvpTdkA",
        "outputId": "2ba2a306-f94e-4dd2-ad26-c942492d8461"
      },
      "source": [
        "# Introduction to sets\n",
        "\n",
        "def average(array):\n",
        "    return (sum(set(array))/len(set(array)))\n",
        "\n",
        "\n",
        "if __name__ == '__main__':\n",
        "    n = int(input())\n",
        "    arr = list(map(int, input().split()))\n",
        "    result = average(arr)\n",
        "    print(result)"
      ],
      "execution_count": 11,
      "outputs": [
        {
          "output_type": "stream",
          "text": [
            "10\n",
            "161\n",
            "161.0\n"
          ],
          "name": "stdout"
        }
      ]
    },
    {
      "cell_type": "code",
      "metadata": {
        "colab": {
          "base_uri": "https://localhost:8080/"
        },
        "id": "av2Dpn50TdqC",
        "outputId": "0c41d3b4-51cc-450c-d330-2646c0377f38"
      },
      "source": [
        "# No Idea\n",
        "\n",
        "n , m = map(int , input(\"\").split(\" \"))\n",
        "n_list=list(map(int , input(\"\").split(\" \")))\n",
        "Set_A=set(int(x) for x in input(\"\").split(\" \"))\n",
        "Set_B = set(int(x) for x in input(\"\").split(\" \"))\n",
        "result=0\n",
        "for i in n_list:\n",
        "    if i in Set_A:\n",
        "        result+=1\n",
        "    elif i in Set_B:\n",
        "        result-=1\n",
        "    elif i not in Set_B and i not in Set_A:\n",
        "        pass\n",
        "print(result)"
      ],
      "execution_count": 12,
      "outputs": [
        {
          "output_type": "stream",
          "text": [
            "3 2\n",
            "1 5 3\n",
            "3 1\n",
            "2\n"
          ],
          "name": "stdout"
        }
      ]
    },
    {
      "cell_type": "code",
      "metadata": {
        "colab": {
          "base_uri": "https://localhost:8080/"
        },
        "id": "C1FqHlk6VfKQ",
        "outputId": "07f429ec-56c0-4ad3-8351-99d19995d486"
      },
      "source": [
        "# Set .add()\n",
        "\n",
        "n=int(input(\"\"))\n",
        "s = set()\n",
        "for i in range(n):\n",
        "    m=input(\"\")\n",
        "    s.add(m)\n",
        "\n",
        "print(len(s))"
      ],
      "execution_count": 14,
      "outputs": [
        {
          "output_type": "stream",
          "text": [
            "5\n",
            "India\n",
            "Aus\n",
            "Eng\n",
            "India\n",
            "Eng\n",
            "3\n"
          ],
          "name": "stdout"
        }
      ]
    },
    {
      "cell_type": "code",
      "metadata": {
        "colab": {
          "base_uri": "https://localhost:8080/"
        },
        "id": "cdYbhOHLVfPn",
        "outputId": "c13c1520-ff54-4f12-cf1e-88e06f39560a"
      },
      "source": [
        "#Set .discard(), .remove() & .pop()d\n",
        "\n",
        "n = int(input())\n",
        "s = set(map(int, input().split(\" \")))\n",
        "m = int(input())\n",
        "for i in range(0,m):\n",
        "    x=list(input().split(\" \"))\n",
        "    if x[0]==\"pop\":\n",
        "        s.pop()\n",
        "    elif x[0]==\"remove\":\n",
        "        j = int(x[1])\n",
        "        s.remove(j)\n",
        "    elif x[0]==\"discard\":\n",
        "        j = int(x[1])\n",
        "        s.discard(j)\n",
        "print(sum(s))"
      ],
      "execution_count": 15,
      "outputs": [
        {
          "output_type": "stream",
          "text": [
            "9\n",
            "1 2 3 4 5 6 7 8 9\n",
            "10\n",
            "pop\n",
            "remove 9\n",
            "discard 9\n",
            "discard 8\n",
            "remove 7\n",
            "pop\n",
            "discard 6\n",
            "remove 5\n",
            "pop\n",
            "discard 5\n",
            "4\n"
          ],
          "name": "stdout"
        }
      ]
    },
    {
      "cell_type": "code",
      "metadata": {
        "colab": {
          "base_uri": "https://localhost:8080/"
        },
        "id": "fIkO0kllVfU7",
        "outputId": "e6d7f242-5593-4dff-dc99-c3028debc6e5"
      },
      "source": [
        "# Set .union() Operation\n",
        "\n",
        "n1 = int(input(\"\"))\n",
        "ls1=set(map(int , input(\"\").split(\" \")))\n",
        "n2 = int(input(\"\"))\n",
        "ls2=set(map(int , input(\"\").split(\" \")))\n",
        "ma = set(ls1.union(ls2))\n",
        "output =0\n",
        "for i in ma:\n",
        "    output+=1\n",
        "\n",
        "output = str(output)\n",
        "print(output)"
      ],
      "execution_count": 16,
      "outputs": [
        {
          "output_type": "stream",
          "text": [
            "9\n",
            "1 2 3 4 5 6 7 8 9\n",
            "9\n",
            "10 1 2 3 11 55 21 8 6\n",
            "13\n"
          ],
          "name": "stdout"
        }
      ]
    },
    {
      "cell_type": "code",
      "metadata": {
        "colab": {
          "base_uri": "https://localhost:8080/"
        },
        "id": "PEaM-MzKVfbD",
        "outputId": "f2da3aa5-1e6c-46ec-c5dd-fb0069915465"
      },
      "source": [
        "# Set .intersection() Operation\n",
        "\n",
        "n1 = int(input(\"\"))\n",
        "ls1=set(map(int , input(\"\").split(\" \")))\n",
        "n2 = int(input(\"\"))\n",
        "ls2=set(map(int , input(\"\").split(\" \")))\n",
        "ma = set(ls1.intersection(ls2))\n",
        "output=0\n",
        "for i in ma:\n",
        "  output+=1\n",
        "print(output)"
      ],
      "execution_count": 17,
      "outputs": [
        {
          "output_type": "stream",
          "text": [
            "6\n",
            "1 2 3 4 5 6\n",
            "6\n",
            "3 7 8 6 0\n",
            "2\n"
          ],
          "name": "stdout"
        }
      ]
    },
    {
      "cell_type": "code",
      "metadata": {
        "colab": {
          "base_uri": "https://localhost:8080/"
        },
        "id": "Wfqt8JsaVfh8",
        "outputId": "5759e4d7-0c98-4f7c-9d35-fb52a3027e5b"
      },
      "source": [
        "# Set .difference() Operation\n",
        "\n",
        "m = int(input(\"\"))\n",
        "ma = set(map(int , input(\"\").split(\" \")))\n",
        "m1 = int(input(\"\"))\n",
        "ma1 = set(map(int , input(\"\").split(\" \")))\n",
        "Final_Set = ma.difference(ma1)\n",
        "output = 0\n",
        "for i in Final_Set:\n",
        "    output+=1\n",
        "print(output)\n"
      ],
      "execution_count": 18,
      "outputs": [
        {
          "output_type": "stream",
          "text": [
            "5\n",
            "1 2 3 4 5\n",
            "5\n",
            "4 5 6 7 8\n",
            "3\n"
          ],
          "name": "stdout"
        }
      ]
    },
    {
      "cell_type": "code",
      "metadata": {
        "colab": {
          "base_uri": "https://localhost:8080/"
        },
        "id": "fa_GJKklVfqN",
        "outputId": "22c386c3-acc7-4f1f-d986-5e3f6b138675"
      },
      "source": [
        "# Set .symmetric_difference() Operation\n",
        "\n",
        "a1 = int(input(\"\"))\n",
        "s = set(filter(int , input(\"\").split(' ')))\n",
        "a2 = int(input(\"\"))\n",
        "Final_Set = set(filter(int , input(\"\").split(' ')))\n",
        "SetA = s.symmetric_difference(Final_Set)\n",
        "output = 0\n",
        "for i in SetA:\n",
        "    output+=1\n",
        "print(output)"
      ],
      "execution_count": 19,
      "outputs": [
        {
          "output_type": "stream",
          "text": [
            "5\n",
            "1 2 3 4 5\n",
            "5\n",
            "4 5 6 7 8\n",
            "6\n"
          ],
          "name": "stdout"
        }
      ]
    },
    {
      "cell_type": "code",
      "metadata": {
        "id": "_bXrfzwAcJt5"
      },
      "source": [
        "# Check Subset\n",
        "\n",
        "def Subset(a,b):\n",
        "    result = 0\n",
        "    for i in a:\n",
        "        if i in b:\n",
        "            result = 1\n",
        "        else:\n",
        "            result = 0\n",
        "            break\n",
        "    return True if result == 1 else False# Using Ternary Operator\n",
        "\n",
        "test_case = int(input(\"\"))\n",
        "\n",
        "for i in range(test_case):\n",
        "    a= int(input(\"\"))\n",
        "    seta = set(int(x) for x in input().split(\" \"))\n",
        "    b =int(input(\"\"))\n",
        "    setb = set(int(x) for x in input().split(\" \"))\n",
        "    print(Subset(seta , setb)) "
      ],
      "execution_count": null,
      "outputs": []
    }
  ]
}