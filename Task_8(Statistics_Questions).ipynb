{
  "nbformat": 4,
  "nbformat_minor": 0,
  "metadata": {
    "colab": {
      "name": "Task_8(Statistics Questions).ipynb",
      "provenance": [],
      "authorship_tag": "ABX9TyOA8NwNn1Llj8ArXjZIrWWr",
      "include_colab_link": true
    },
    "kernelspec": {
      "name": "python3",
      "display_name": "Python 3"
    },
    "language_info": {
      "name": "python"
    }
  },
  "cells": [
    {
      "cell_type": "markdown",
      "metadata": {
        "id": "view-in-github",
        "colab_type": "text"
      },
      "source": [
        "<a href=\"https://colab.research.google.com/github/kvraagul/Innomatics_Internship_APR_21/blob/main/Task_8(Statistics_Questions).ipynb\" target=\"_parent\"><img src=\"https://colab.research.google.com/assets/colab-badge.svg\" alt=\"Open In Colab\"/></a>"
      ]
    },
    {
      "cell_type": "markdown",
      "metadata": {
        "id": "QakOKUd6d4qB"
      },
      "source": [
        "**INNOMATICS INTERNSHIP APRIL 2021**\n",
        "\n",
        "**TASK-8(Statistics Questions)**"
      ]
    },
    {
      "cell_type": "code",
      "metadata": {
        "id": "iHsVjigId3u1"
      },
      "source": [
        "# Binomial Distribution-1\n",
        "\n",
        "def fact(n):\n",
        "    if n == 1 or n == 0:\n",
        "        return 1\n",
        "    if n > 1:\n",
        "        return fact(n - 1) * n\n",
        "\n",
        "def binom(x, n, p):\n",
        "    f = fact(n) / (fact(n - x) * fact(x))\n",
        "    return (f * p**x * (1.0 - p)**(n-x))\n",
        "\n",
        "values = list(map(float, input().split()))\n",
        "p = values[0] / (values[0] + values[1])\n",
        "n = 6\n",
        "\n",
        "\n",
        "result = binom(3,n,p) + binom(4,n,p) + binom(5,n,p) + binom(6,n,p)\n",
        "print(round(result, 3))"
      ],
      "execution_count": null,
      "outputs": []
    },
    {
      "cell_type": "code",
      "metadata": {
        "id": "bmu_-wjdd6Gj"
      },
      "source": [
        "# Binomial Distribution-2\n",
        "\n",
        "def factorial(n):\n",
        "    if n == 1 or n == 0:\n",
        "        return 1\n",
        "    if n > 1:\n",
        "        return factorial(n - 1) * n\n",
        "\n",
        "def binomial(x, n, p):\n",
        "    f = factorial(n) / (factorial(n - x) * factorial(x))\n",
        "    return (f * p**x * (1.0 - p)**(n-x))\n",
        "\n",
        "values = list(map(float, input().split()))\n",
        "p = (values[0] / 100)\n",
        "n = int(values[1])\n",
        "\n",
        "no_more_than_2_rejects = 0\n",
        "for i in range(n):\n",
        "    if i < 3:\n",
        "        no_more_than_2_rejects = no_more_than_2_rejects + binomial(i, n, p)\n",
        "print(round(no_more_than_2_rejects, 3))\n",
        "\n",
        "at_least_2_rejects = 0\n",
        "for i in range(n):\n",
        "    if i > 1:\n",
        "        at_least_2_rejects = at_least_2_rejects + binomial(i, n, p)\n",
        "print(round(at_least_2_rejects, 3))"
      ],
      "execution_count": null,
      "outputs": []
    },
    {
      "cell_type": "code",
      "metadata": {
        "id": "JFoBoS3rd6N8"
      },
      "source": [
        "# Normal Distribution-1\n",
        "\n",
        "import math\n",
        "\n",
        "def cumulative(mean, std, value):\n",
        "    return 0.5 * (1 + math.erf((value - mean) / (std * (2 ** 0.5))))\n",
        "\n",
        "initial_values = list(map(float, input().split()))\n",
        "mean = initial_values[0]\n",
        "std = initial_values[1]\n",
        "less_period = float(input())\n",
        "between_period = list(map(float, input().split()))\n",
        "\n",
        "print (round(cumulative(mean, std, less_period),3))\n",
        "print (round(cumulative(mean, std, between_period[1]) - cumulative(mean, std, between_period[0]), 3))"
      ],
      "execution_count": null,
      "outputs": []
    },
    {
      "cell_type": "code",
      "metadata": {
        "id": "2u_yBLYYd6Rb"
      },
      "source": [
        "# Normal Distribution-2\n",
        "\n",
        "import math\n",
        "\n",
        "def cumulative(mean, std, value):\n",
        "    return 0.5 * (1 + math.erf((value - mean) / (std * (2 ** 0.5))))\n",
        "\n",
        "initial_values = list(map(float, input().split()))\n",
        "mean = initial_values[0]\n",
        "std = initial_values[1]\n",
        "val_first_question = float(input())\n",
        "val_sec_third_question = float(input())\n",
        "\n",
        "print (round(100 - (cumulative(mean, std, val_first_question) * 100), 2))\n",
        "print (round(100 - (cumulative(mean, std, val_sec_third_question) * 100), 2))\n",
        "print (round(cumulative(mean, std, val_sec_third_question) * 100, 2))"
      ],
      "execution_count": null,
      "outputs": []
    },
    {
      "cell_type": "code",
      "metadata": {
        "id": "LVPLdVqDd6Xv"
      },
      "source": [
        "# The Central Limit Theorem-1\n",
        "\n",
        "import math\n",
        "\n",
        "def cumulative(mean, std, value):\n",
        "    return 0.5 * (1 + math.erf((value - mean) / (std * (2 ** 0.5))))\n",
        "\n",
        "max_weight = float(input())\n",
        "n = float(input())\n",
        "mean = float(input())\n",
        "std = float(input())\n",
        "\n",
        "new_mean = mean * n\n",
        "new_std = math.sqrt(n) * std\n",
        "\n",
        "print (round(cumulative(new_mean, new_std, max_weight),4))"
      ],
      "execution_count": null,
      "outputs": []
    },
    {
      "cell_type": "code",
      "metadata": {
        "id": "oynvpP9Fd6bM"
      },
      "source": [
        "# The Central Limit Theorem-2\n",
        "\n",
        "import math\n",
        "\n",
        "def cumulative(mean, std, value):\n",
        "    return 0.5 * (1 + math.erf((value - mean) / (std * (2 ** 0.5))))\n",
        "\n",
        "max_weight = float(input())\n",
        "n = float(input())\n",
        "mean = float(input())\n",
        "std = float(input())\n",
        "\n",
        "new_mean = mean * n\n",
        "new_std = math.sqrt(n) * std\n",
        "\n",
        "print (round(cumulative(new_mean, new_std, max_weight),4))"
      ],
      "execution_count": null,
      "outputs": []
    },
    {
      "cell_type": "code",
      "metadata": {
        "id": "GoSN6RQ7d6gx"
      },
      "source": [
        "# The Central Limit Theorem-3\n",
        "\n",
        "import math\n",
        "\n",
        "n = float(input())\n",
        "mean = float(input())\n",
        "std = float(input())\n",
        "percent_clt = float(input())\n",
        "value_clt = float(input())\n",
        "\n",
        "clt = value_clt * (std / math.sqrt(n))\n",
        "\n",
        "print(round(mean - clt, 2))\n",
        "print(round(mean + clt, 2))"
      ],
      "execution_count": null,
      "outputs": []
    },
    {
      "cell_type": "code",
      "metadata": {
        "id": "5483rwvBd6lR"
      },
      "source": [
        "# Pearson correlation coefficient\n",
        "\n",
        "import statistics as st\n",
        "\n",
        "def correlation_coefficient(n, dt_x, dt_y):\n",
        "    mean_x = st.mean(dt_x)\n",
        "    mean_y = st.mean(dt_y)\n",
        "    std_x = st.pstdev(dt_x)\n",
        "    std_y = st.pstdev(dt_y)\n",
        "    c = 0\n",
        "    for i in range(n):\n",
        "        c = c + (dt_x[i] - mean_x) * (dt_y[i] - mean_y)\n",
        "    return c / (n * std_x * std_y)\n",
        "\n",
        "n = int(float(input()))\n",
        "data_set_x = list(map(float, input().split()))\n",
        "data_set_y = list(map(float, input().split()))\n",
        "\n",
        "print (round(correlation_coefficient(n, data_set_x, data_set_y), 3))"
      ],
      "execution_count": null,
      "outputs": []
    },
    {
      "cell_type": "code",
      "metadata": {
        "id": "xbE8LTuQd6vB"
      },
      "source": [
        "# Least Square Regression Line\n",
        "\n",
        "import statistics as st\n",
        "\n",
        "n = 5\n",
        "x = [95, 85, 80, 70, 60]\n",
        "y = [85, 95, 70, 65, 70]\n",
        "mean_x = st.mean(x)\n",
        "mean_y = st.mean(y)\n",
        "x_squared = sum([x[i] ** 2 for i in range(5)])\n",
        "xy = sum([x[i]*y[i] for i in range(5)])\n",
        "\n",
        "b = (n * xy - sum(x) * sum(y)) / (n * x_squared - (sum(x) ** 2))\n",
        "a = mean_y - b * mean_x\n",
        "\n",
        "print (round(a + 80 * b, 3))"
      ],
      "execution_count": null,
      "outputs": []
    },
    {
      "cell_type": "code",
      "metadata": {
        "id": "WuLFIYvrd61L"
      },
      "source": [
        "# Multiple Linear Regression\n",
        "\n",
        "from sklearn import linear_model\n",
        "\n",
        "m, n = map(int, input().split())\n",
        "X, Y = [], []\n",
        "\n",
        "for i in range(n):\n",
        "    x = [0]\n",
        "    elements = list(map(float, input().split()))\n",
        "    for j in range(len(elements)):\n",
        "        if j < m:\n",
        "            x.append(elements[j])\n",
        "        else:\n",
        "            Y.append(elements[j])\n",
        "    X.append(x)\n",
        "\n",
        "model = linear_model.LinearRegression()\n",
        "model.fit(X, Y)\n",
        "a = model.intercept_\n",
        "b = model.coef_\n",
        "\n",
        "q = int(input())\n",
        "new_X = []\n",
        "for i in range(q):\n",
        "    x = [0]\n",
        "    elements = list(map(float, input().split()))\n",
        "    for j in range(len(elements)):\n",
        "        x.append(elements[j])\n",
        "    new_X.append(x)\n",
        "\n",
        "result = model.predict(new_X)\n",
        "for i in range(len(result)):\n",
        "    print(round(result[i],2))"
      ],
      "execution_count": null,
      "outputs": []
    }
  ]
}