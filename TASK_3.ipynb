{
  "nbformat": 4,
  "nbformat_minor": 0,
  "metadata": {
    "colab": {
      "name": "TASK-3.ipynb",
      "provenance": [],
      "authorship_tag": "ABX9TyPPNXtKWMKGAAc7Ij6rpRJZ",
      "include_colab_link": true
    },
    "kernelspec": {
      "name": "python3",
      "display_name": "Python 3"
    },
    "language_info": {
      "name": "python"
    }
  },
  "cells": [
    {
      "cell_type": "markdown",
      "metadata": {
        "id": "view-in-github",
        "colab_type": "text"
      },
      "source": [
        "<a href=\"https://colab.research.google.com/github/kvraagul/Innomatics_Internship_APR_21/blob/main/TASK_3.ipynb\" target=\"_parent\"><img src=\"https://colab.research.google.com/assets/colab-badge.svg\" alt=\"Open In Colab\"/></a>"
      ]
    },
    {
      "cell_type": "markdown",
      "metadata": {
        "id": "kaw3wbxWf4PN"
      },
      "source": [
        "**INNOMATICS INTERNSHIP APRIL 2021**\n",
        "\n",
        "**TASK-3 (PYTHON PROGRAMMING)**"
      ]
    },
    {
      "cell_type": "code",
      "metadata": {
        "colab": {
          "base_uri": "https://localhost:8080/"
        },
        "id": "ZAEbM-6kf3VD",
        "outputId": "a6435487-74c0-4a54-df6b-c4665d50c73d"
      },
      "source": [
        "#Question 1 (Polar Coordinates)\n",
        "\n",
        "import cmath\n",
        "m=complex(input('Enter the complex number = '))\n",
        "print(abs(complex(m.real,m.imag)),'\\n',cmath.phase(complex(m.real,m.imag)))"
      ],
      "execution_count": null,
      "outputs": [
        {
          "output_type": "stream",
          "text": [
            "Enter the complex number = 1+7j\n",
            "7.0710678118654755 \n",
            " 1.4288992721907328\n"
          ],
          "name": "stdout"
        }
      ]
    },
    {
      "cell_type": "code",
      "metadata": {
        "colab": {
          "base_uri": "https://localhost:8080/"
        },
        "id": "ynQorZu4iEmY",
        "outputId": "7a23c2d2-c22a-40d2-ea5b-3ac42d5811e0"
      },
      "source": [
        "#Question 2 (Find Angle MBC)\n",
        "\n",
        "import math\n",
        "AB=int(input('Enter a value of AB = '))\n",
        "BC=int(input('Enter a value of BC = '))\n",
        "hypotenuse=math.hypot(AB,BC)\n",
        "req_angle=round(math.degrees(math.acos(BC/hypotenuse)))\n",
        "deg=chr(176)\n",
        "print(req_angle,deg,sep='')"
      ],
      "execution_count": null,
      "outputs": [
        {
          "output_type": "stream",
          "text": [
            "Enter a value of AB = 10\n",
            "Enter a value of BC = 10\n",
            "45°\n"
          ],
          "name": "stdout"
        }
      ]
    },
    {
      "cell_type": "code",
      "metadata": {
        "colab": {
          "base_uri": "https://localhost:8080/"
        },
        "id": "lOdcxHaUgMM4",
        "outputId": "d5e5f8db-082f-4216-a6fb-1f99e4634511"
      },
      "source": [
        "#Question 3 (Triangle Quest 2)\n",
        "\n",
        "N=int(input('Enter the value of N = '))\n",
        "for i in range(1,N+1):\n",
        "  print(((10**i-1)//9)**2)"
      ],
      "execution_count": null,
      "outputs": [
        {
          "output_type": "stream",
          "text": [
            "Enter the value of N = 5\n",
            "1\n",
            "121\n",
            "12321\n",
            "1234321\n",
            "123454321\n"
          ],
          "name": "stdout"
        }
      ]
    },
    {
      "cell_type": "code",
      "metadata": {
        "colab": {
          "base_uri": "https://localhost:8080/"
        },
        "id": "OkCHufM9mejl",
        "outputId": "7989f087-3bf6-4a81-d10f-797fb3806b87"
      },
      "source": [
        "#Question 4 (Mod Divmod)\n",
        "\n",
        "a=int(input('Enter value of a = '))\n",
        "b=int(input('Enter value of b = '))\n",
        "print(\"{}\\n{}\\n{}\".format((a//b),(a%b),divmod(a,b)))"
      ],
      "execution_count": null,
      "outputs": [
        {
          "output_type": "stream",
          "text": [
            "Enter value of a = 177\n",
            "Enter value of b = 10\n",
            "17\n",
            "7\n",
            "(17, 7)\n"
          ],
          "name": "stdout"
        }
      ]
    },
    {
      "cell_type": "code",
      "metadata": {
        "colab": {
          "base_uri": "https://localhost:8080/"
        },
        "id": "aowGoaXLsFuA",
        "outputId": "602a66b3-34f7-43c9-9d49-1736054c6fca"
      },
      "source": [
        "#Question 5 (Power-Mod Power)\n",
        "\n",
        "a=int(input('Enter value of a = '))\n",
        "b=int(input('Enter value of b = '))\n",
        "m=int(input('Enter value of m = '))\n",
        "print(a**b)\n",
        "print(a**b%m)"
      ],
      "execution_count": null,
      "outputs": [
        {
          "output_type": "stream",
          "text": [
            "Enter value of a = 3\n",
            "Enter value of b = 4\n",
            "Enter value of m = 5\n",
            "81\n",
            "1\n"
          ],
          "name": "stdout"
        }
      ]
    },
    {
      "cell_type": "code",
      "metadata": {
        "colab": {
          "base_uri": "https://localhost:8080/"
        },
        "id": "LfVPi7RNt1pC",
        "outputId": "5ee83bf7-6617-48ae-a0f8-4b360e681189"
      },
      "source": [
        "#Question 6 (Integers Come in All Sizes)\n",
        "\n",
        "a=int(input('Enter the value of a = '))\n",
        "b=int(input('Enter the value of b = '))\n",
        "c=int(input('Enter the value of c = '))\n",
        "d=int(input('Enter the value of d = '))\n",
        "print(a**b + c**d)"
      ],
      "execution_count": null,
      "outputs": [
        {
          "output_type": "stream",
          "text": [
            "Enter the value of a = 9\n",
            "Enter the value of b = 29\n",
            "Enter the value of c = 7\n",
            "Enter the value of d = 27\n",
            "4710194409608608369201743232\n"
          ],
          "name": "stdout"
        }
      ]
    },
    {
      "cell_type": "code",
      "metadata": {
        "colab": {
          "base_uri": "https://localhost:8080/"
        },
        "id": "1hIQXXTEt1uh",
        "outputId": "7ee85a46-ae76-455b-cc2a-194323197597"
      },
      "source": [
        "#Question 7 (Triangle Quest)\n",
        "\n",
        "N=int(input('Enter the value of N = '))\n",
        "for i in range(1,N+1):\n",
        "  print((10**i//9)*i)"
      ],
      "execution_count": null,
      "outputs": [
        {
          "output_type": "stream",
          "text": [
            "Enter the value of N = 5\n",
            "1\n",
            "22\n",
            "333\n",
            "4444\n",
            "55555\n"
          ],
          "name": "stdout"
        }
      ]
    },
    {
      "cell_type": "code",
      "metadata": {
        "id": "YddCsSuiwaGK"
      },
      "source": [
        ""
      ],
      "execution_count": null,
      "outputs": []
    }
  ]
}