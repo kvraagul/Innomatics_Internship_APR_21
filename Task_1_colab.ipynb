{
  "nbformat": 4,
  "nbformat_minor": 0,
  "metadata": {
    "colab": {
      "name": "Task-1.ipynb",
      "provenance": [],
      "collapsed_sections": [],
      "authorship_tag": "ABX9TyOzpbxOby7Gkwv91bW3PfB0",
      "include_colab_link": true
    },
    "kernelspec": {
      "name": "python3",
      "display_name": "Python 3"
    },
    "language_info": {
      "name": "python"
    }
  },
  "cells": [
    {
      "cell_type": "markdown",
      "metadata": {
        "id": "view-in-github",
        "colab_type": "text"
      },
      "source": [
        "<a href=\"https://colab.research.google.com/github/kvraagul/Innomatics_Internship_APR_21/blob/main/Task_1_colab.ipynb\" target=\"_parent\"><img src=\"https://colab.research.google.com/assets/colab-badge.svg\" alt=\"Open In Colab\"/></a>"
      ]
    },
    {
      "cell_type": "markdown",
      "metadata": {
        "id": "M6pKgKPXFuGJ"
      },
      "source": [
        "**INNOMATICS INTERNSHIP APRIL 2021**\n",
        "\n",
        "**TASK 1**\n"
      ]
    },
    {
      "cell_type": "code",
      "metadata": {
        "colab": {
          "base_uri": "https://localhost:8080/"
        },
        "id": "YDzCEaefSlx0",
        "outputId": "b2056f42-9f3f-48ca-eaa3-0e02b6a316cd"
      },
      "source": [
        "#Question 1\n",
        "\n",
        "print(\"Hello, World!\")"
      ],
      "execution_count": null,
      "outputs": [
        {
          "output_type": "stream",
          "text": [
            "Hello, World!\n"
          ],
          "name": "stdout"
        }
      ]
    },
    {
      "cell_type": "code",
      "metadata": {
        "colab": {
          "base_uri": "https://localhost:8080/"
        },
        "id": "XmgCmFyDSqRC",
        "outputId": "a148edb7-8668-483d-eef9-ad00d869cf25"
      },
      "source": [
        "#Question 2\n",
        "\n",
        "n=int(input('enter a value = '))\n",
        "\n",
        "if n%2==0:\n",
        "    if n in range(2,5):\n",
        "        print('Not Weird')\n",
        "    elif n in range(6,21):\n",
        "        print('Weird')\n",
        "    elif n > 20:\n",
        "        print('Not Weird')\n",
        "\n",
        "else:\n",
        "    print('Weird')"
      ],
      "execution_count": null,
      "outputs": [
        {
          "output_type": "stream",
          "text": [
            "enter a value = 4\n",
            "Not Weird\n"
          ],
          "name": "stdout"
        }
      ]
    },
    {
      "cell_type": "code",
      "metadata": {
        "colab": {
          "base_uri": "https://localhost:8080/"
        },
        "id": "-7bYgQyRSqVC",
        "outputId": "77e11514-3934-4f60-8b6e-ffb97f4ea7ae"
      },
      "source": [
        "#Question 3\n",
        "\n",
        "a=int(input('enter value of a = '))\n",
        "b=int(input('enter value of b = '))\n",
        "\n",
        "print('{} \\n{} \\n{}'.format((a + b),(a - b),(a * b)))"
      ],
      "execution_count": null,
      "outputs": [
        {
          "output_type": "stream",
          "text": [
            "enter value of a = 12\n",
            "enter value of b = 10\n",
            "22 \n",
            "2 \n",
            "120\n"
          ],
          "name": "stdout"
        }
      ]
    },
    {
      "cell_type": "code",
      "metadata": {
        "colab": {
          "base_uri": "https://localhost:8080/"
        },
        "id": "CwhkBj_FSqYc",
        "outputId": "9d6d9bb5-f85f-48b1-81f7-c1029ee361b4"
      },
      "source": [
        "#Question 4\n",
        "\n",
        "a=int(input('enter value of a = '))\n",
        "b=int(input('enter value of b = '))\n",
        "\n",
        "print(\"{} \\n{}\".format(a//b, a/b))"
      ],
      "execution_count": null,
      "outputs": [
        {
          "output_type": "stream",
          "text": [
            "enter value of a = 2\n",
            "enter value of b = 5\n",
            "0 \n",
            "0.4\n"
          ],
          "name": "stdout"
        }
      ]
    },
    {
      "cell_type": "code",
      "metadata": {
        "colab": {
          "base_uri": "https://localhost:8080/"
        },
        "id": "mD4CuYdSSqcq",
        "outputId": "a3bd6371-0860-4a19-d051-d78bf845b3c3"
      },
      "source": [
        "#Question 5\n",
        "\n",
        "n=int(input('enter a value = '))\n",
        "\n",
        "for i in range(0,n):\n",
        "    print(i*i)\n",
        "    "
      ],
      "execution_count": null,
      "outputs": [
        {
          "output_type": "stream",
          "text": [
            "enter a value = 5\n",
            "0\n",
            "1\n",
            "4\n",
            "9\n",
            "16\n"
          ],
          "name": "stdout"
        }
      ]
    },
    {
      "cell_type": "code",
      "metadata": {
        "colab": {
          "base_uri": "https://localhost:8080/"
        },
        "id": "C_JSXiWCSqgv",
        "outputId": "a5271f82-a1fe-4acf-ea65-bf6e2496a76d"
      },
      "source": [
        "#Question 6\n",
        "\n",
        "def is_leap(year):\n",
        "    if year % 400 == 0:\n",
        "        return True\n",
        "    elif year % 100 == 0:\n",
        "        return False\n",
        "    elif year % 4 == 0:\n",
        "        return True\n",
        "    else:\n",
        "        return False\n",
        "\n",
        "year = int(input('enter the year'))\n",
        "print(is_leap(year))"
      ],
      "execution_count": null,
      "outputs": [
        {
          "output_type": "stream",
          "text": [
            "enter the year1800\n",
            "False\n"
          ],
          "name": "stdout"
        }
      ]
    },
    {
      "cell_type": "code",
      "metadata": {
        "colab": {
          "base_uri": "https://localhost:8080/"
        },
        "id": "2qJs0BSu9Pho",
        "outputId": "9737a9cb-dc92-4055-e2d1-e5cf826e1594"
      },
      "source": [
        "#Question 7\n",
        "\n",
        "n=int(input('enter a value = '))\n",
        "\n",
        "for i in range(1,n+1):\n",
        "  print(i,end='')"
      ],
      "execution_count": null,
      "outputs": [
        {
          "output_type": "stream",
          "text": [
            "enter a value = 6\n",
            "123456"
          ],
          "name": "stdout"
        }
      ]
    }
  ]
}