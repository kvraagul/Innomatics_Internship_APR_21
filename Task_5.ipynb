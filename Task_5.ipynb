{
  "nbformat": 4,
  "nbformat_minor": 0,
  "metadata": {
    "colab": {
      "name": "Task_5.ipynb",
      "provenance": [],
      "authorship_tag": "ABX9TyOO6/J9u47a8QABNWUwJ4e+",
      "include_colab_link": true
    },
    "kernelspec": {
      "name": "python3",
      "display_name": "Python 3"
    },
    "language_info": {
      "name": "python"
    }
  },
  "cells": [
    {
      "cell_type": "markdown",
      "metadata": {
        "id": "view-in-github",
        "colab_type": "text"
      },
      "source": [
        "<a href=\"https://colab.research.google.com/github/kvraagul/Innomatics_Internship_APR_21/blob/main/Task_5.ipynb\" target=\"_parent\"><img src=\"https://colab.research.google.com/assets/colab-badge.svg\" alt=\"Open In Colab\"/></a>"
      ]
    },
    {
      "cell_type": "markdown",
      "metadata": {
        "id": "FqOFmeXjGmnI"
      },
      "source": [
        "**INNOMATICS INTERNSHIP ARPIL 2021**\n",
        "\n",
        "**TASK-5**"
      ]
    },
    {
      "cell_type": "code",
      "metadata": {
        "colab": {
          "base_uri": "https://localhost:8080/"
        },
        "id": "gGriqxsdGkSy",
        "outputId": "a7d23221-d487-43fb-c36e-818a8c1ddf62"
      },
      "source": [
        "# Detect Floating Point Number\n",
        "\n",
        "import re\n",
        "\n",
        "if __name__ == \"__main__\":\n",
        "    t = int(input().strip())\n",
        "    pattern = '^[+-]?[0-9]*\\.[0-9]+$'\n",
        "    \n",
        "    for _ in range(t):\n",
        "        print(bool(re.match(pattern, input())))"
      ],
      "execution_count": 3,
      "outputs": [
        {
          "output_type": "stream",
          "text": [
            "2\n",
            "1.000\n",
            "True\n",
            "3\n",
            "False\n"
          ],
          "name": "stdout"
        }
      ]
    },
    {
      "cell_type": "code",
      "metadata": {
        "colab": {
          "base_uri": "https://localhost:8080/"
        },
        "id": "nkzG7pAzHJA6",
        "outputId": "8fcfb3a5-f6bb-48b9-ea7c-4939283ea67b"
      },
      "source": [
        "# Re.split()\n",
        "\n",
        "regex_pattern = r'[.,]+'\n",
        "\n",
        "import re\n",
        "\n",
        "print(\"\\n\".join(re.split(regex_pattern, input())))"
      ],
      "execution_count": 4,
      "outputs": [
        {
          "output_type": "stream",
          "text": [
            "100,000,000.001\n",
            "100\n",
            "000\n",
            "000\n",
            "001\n"
          ],
          "name": "stdout"
        }
      ]
    },
    {
      "cell_type": "code",
      "metadata": {
        "colab": {
          "base_uri": "https://localhost:8080/"
        },
        "id": "9C8UHLCFIcNF",
        "outputId": "f4b68ef3-0eac-4cf8-d9d0-7f0383c2d7da"
      },
      "source": [
        "# Group(), Groups() & Groupdict()\n",
        "\n",
        "import re\n",
        "\n",
        "m = re.search(r'([a-zA-Z0-9])\\1', input().strip())\n",
        "\n",
        "print(m.group(1) if m else -1)"
      ],
      "execution_count": 5,
      "outputs": [
        {
          "output_type": "stream",
          "text": [
            "1234567891011121314151617181920212223\n",
            "1\n"
          ],
          "name": "stdout"
        }
      ]
    },
    {
      "cell_type": "code",
      "metadata": {
        "colab": {
          "base_uri": "https://localhost:8080/"
        },
        "id": "ijl_yhyJI4ET",
        "outputId": "3cbeb50a-8a33-4b11-e066-a455a4f72a3d"
      },
      "source": [
        "# Re.findall() & Re.finditer()\n",
        "\n",
        "import re\n",
        "\n",
        "vowels = 'aeiou'\n",
        "consonants = 'bcdfghjklmnpqrstvwxyz'\n",
        "match = re.findall(r'(?<=[' + consonants + '])([' + vowels + ']{2,})(?=[' + consonants + '])', input(), flags=re.I)\n",
        "\n",
        "print('\\n'.join(match or ['-1']))"
      ],
      "execution_count": 7,
      "outputs": [
        {
          "output_type": "stream",
          "text": [
            "rabcdeefgyYhFjkIoomnpOeorteeeeet\n",
            "ee\n",
            "Ioo\n",
            "Oeo\n",
            "eeeee\n"
          ],
          "name": "stdout"
        }
      ]
    },
    {
      "cell_type": "code",
      "metadata": {
        "colab": {
          "base_uri": "https://localhost:8080/"
        },
        "id": "YkxJ2DDhJ8JV",
        "outputId": "1d211f89-2605-4d3a-93c5-aca5eac9f49d"
      },
      "source": [
        "# Re.start() and Re.end()\n",
        "\n",
        "import re\n",
        "\n",
        "string = input()\n",
        "substring = input()\n",
        "\n",
        "pattern = re.compile(substring)\n",
        "match = pattern.search(string)\n",
        "\n",
        "if not match: \n",
        "    print('(-1, -1)')\n",
        "\n",
        "while match:\n",
        "    print('({0}, {1})'.format(match.start(), match.end() - 1))\n",
        "    match = pattern.search(string, match.start() + 1)"
      ],
      "execution_count": 8,
      "outputs": [
        {
          "output_type": "stream",
          "text": [
            "aaadaa\n",
            "aaa\n",
            "(0, 2)\n"
          ],
          "name": "stdout"
        }
      ]
    },
    {
      "cell_type": "code",
      "metadata": {
        "id": "P20o2giJKmLX"
      },
      "source": [
        "# Regex Substitution\n",
        "\n",
        "import re\n",
        "\n",
        "for _ in range(int(input())):\n",
        "    print(re.sub(r'(?<= )(&&|\\|\\|)(?= )', lambda x: 'and' if x.group() == '&&' else 'or', input()))"
      ],
      "execution_count": null,
      "outputs": []
    },
    {
      "cell_type": "code",
      "metadata": {
        "colab": {
          "base_uri": "https://localhost:8080/"
        },
        "id": "po7anYy5LJZ8",
        "outputId": "2da927d8-8dcf-46c7-ff4c-b8dc38519dad"
      },
      "source": [
        "# Validating Roman Numerals\n",
        "\n",
        "regex_pattern = r\"M{0,3}(C[MD]|D?C{0,3})(X[CL]|L?X{0,3})(I[VX]|V?I{0,3})$\"\n",
        "import re\n",
        "print(str(bool(re.match(regex_pattern, input()))))"
      ],
      "execution_count": 10,
      "outputs": [
        {
          "output_type": "stream",
          "text": [
            "CDXXI\n",
            "True\n"
          ],
          "name": "stdout"
        }
      ]
    },
    {
      "cell_type": "code",
      "metadata": {
        "colab": {
          "base_uri": "https://localhost:8080/"
        },
        "id": "kdirkNsKLRTH",
        "outputId": "b65f7890-90e7-4f10-9bff-b5204777dc68"
      },
      "source": [
        "# Validating phone number\n",
        "\n",
        "import re\n",
        "\n",
        "[print('YES' if re.match(r'[789]\\d{9}$', input()) else 'NO') for _ in range(int(input()))]"
      ],
      "execution_count": 11,
      "outputs": [
        {
          "output_type": "stream",
          "text": [
            "2\n",
            "9587456281\n",
            "YES\n",
            "1252478965\n",
            "NO\n"
          ],
          "name": "stdout"
        },
        {
          "output_type": "execute_result",
          "data": {
            "text/plain": [
              "[None, None]"
            ]
          },
          "metadata": {
            "tags": []
          },
          "execution_count": 11
        }
      ]
    },
    {
      "cell_type": "code",
      "metadata": {
        "colab": {
          "base_uri": "https://localhost:8080/"
        },
        "id": "kzKWLXCbLu8-",
        "outputId": "5f8af159-ad31-4cd0-9ed1-c836ffc4a3a6"
      },
      "source": [
        "# Validating and prasing email address\n",
        "\n",
        "import re\n",
        "\n",
        "pattern = r'^<[A-Za-z](\\w|-|\\.|_)+@[A-Za-z]+\\.[A-Za-z]{1,3}>$'\n",
        "\n",
        "for _ in range(int(input())):\n",
        "    name, email = input().split(' ')\n",
        "    \n",
        "    if re.match(pattern, email):\n",
        "        print(name, email)2"
      ],
      "execution_count": 13,
      "outputs": [
        {
          "output_type": "stream",
          "text": [
            "2\n",
            "DEXTER <dexter@hotmail.com>\n",
            "DEXTER <dexter@hotmail.com>\n",
            "VIRUS <virus!@variable.:p>\n"
          ],
          "name": "stdout"
        }
      ]
    },
    {
      "cell_type": "code",
      "metadata": {
        "id": "L6PMM_syMlYO"
      },
      "source": [
        "# Hex color code\n",
        "\n",
        "import re\n",
        "\n",
        "for _ in range(int(input())):\n",
        "    matches = re.findall(r':?.(#[0-9a-fA-F]{6}|#[0-9a-fA-F]{3})', input())\n",
        "    \n",
        "    if matches:\n",
        "        print(*matches, sep='\\n')"
      ],
      "execution_count": null,
      "outputs": []
    },
    {
      "cell_type": "code",
      "metadata": {
        "colab": {
          "base_uri": "https://localhost:8080/"
        },
        "id": "M1T_mgFcOVlF",
        "outputId": "1d676832-ddd2-49cb-d577-f9555eace0e8"
      },
      "source": [
        "# Validating UID\n",
        "\n",
        "import re\n",
        "\n",
        "for _ in range(int(input())):\n",
        "    u = ''.join(sorted(input()))\n",
        "    try:\n",
        "        assert re.search(r'[A-Z]{2}', u)\n",
        "        assert re.search(r'\\d\\d\\d', u)\n",
        "        assert not re.search(r'[^a-zA-Z0-9]', u)\n",
        "        assert not re.search(r'(.)\\1', u)\n",
        "        assert len(u) == 10\n",
        "    except:\n",
        "        print('Invalid')\n",
        "    else:\n",
        "        print('Valid')"
      ],
      "execution_count": 14,
      "outputs": [
        {
          "output_type": "stream",
          "text": [
            "2\n",
            "B1CD102354\n",
            "Invalid\n",
            "B1CDEF2354\n",
            "Valid\n"
          ],
          "name": "stdout"
        }
      ]
    },
    {
      "cell_type": "code",
      "metadata": {
        "id": "7mYdhLNnMles"
      },
      "source": [
        "# HTML Parser Part-1\n",
        "\n",
        "from html.parser import HTMLParser\n",
        "\n",
        "\n",
        "class MyHTMLParser(HTMLParser):\n",
        "    def handle_starttag(self, tag, attrs):\n",
        "        print ('Start :', tag)\n",
        "        for ele in attrs:\n",
        "            print ('->', ele[0], '>', ele[1])\n",
        "\n",
        "    def handle_endtag(self, tag):\n",
        "        print ('End   :', tag)\n",
        "\n",
        "    def handle_startendtag(self, tag, attrs):\n",
        "        print ('Empty :', tag)\n",
        "        for ele in attrs:\n",
        "            print ('->', ele[0], '>', ele[1])\n",
        "\n",
        "\n",
        "parser = MyHTMLParser()\n",
        "for _ in range(int(input())):\n",
        "    parser.feed(input())"
      ],
      "execution_count": null,
      "outputs": []
    },
    {
      "cell_type": "code",
      "metadata": {
        "id": "qWmLNVEfMljO"
      },
      "source": [
        "# HTML Parser Part-2\n",
        "\n",
        "from html.parser import HTMLParser\n",
        "\n",
        "\n",
        "class MyHTMLParser(HTMLParser):\n",
        "    def handle_comment(self, comment):\n",
        "        if '\\n' in comment:\n",
        "            print('>>> Multi-line Comment')\n",
        "        else:\n",
        "            print('>>> Single-line Comment')\n",
        "\n",
        "        print(comment)\n",
        "\n",
        "    def handle_data(self, data):\n",
        "        if data == '\\n': return\n",
        "        print('>>> Data')\n",
        "        print(data)\n",
        "\n",
        "\n",
        "html = \"\"\n",
        "for i in range(int(input())):\n",
        "    html += input().rstrip()\n",
        "    html += '\\n'\n",
        "\n",
        "parser = MyHTMLParser()\n",
        "parser.feed(html)\n",
        "parser.close()\n"
      ],
      "execution_count": null,
      "outputs": []
    },
    {
      "cell_type": "code",
      "metadata": {
        "id": "I95e3teAMl3L"
      },
      "source": [
        "# Detect HTML Tags, Attributes and Attribute Values\n",
        "\n",
        "from html.parser import HTMLParser\n",
        "\n",
        "\n",
        "class MyHTMLParser(HTMLParser):\n",
        "    def handle_starttag(self, tag, attrs):\n",
        "        print(tag)\n",
        "        [print('-> {} > {}'.format(*attr)) for attr in attrs]\n",
        "\n",
        "\n",
        "html = '\\n'.join([input() for _ in range(int(input()))])\n",
        "parser = MyHTMLParser()\n",
        "parser.feed(html)\n",
        "parser.close()"
      ],
      "execution_count": null,
      "outputs": []
    },
    {
      "cell_type": "code",
      "metadata": {
        "colab": {
          "base_uri": "https://localhost:8080/"
        },
        "id": "RJSKM7oAMl6s",
        "outputId": "8ec144a3-53de-43e3-e2e7-dedfd84f4bf4"
      },
      "source": [
        "# Validating Postal Codes\n",
        "\n",
        "regex_integer_in_range = r\"_________\"\t\n",
        "regex_alternating_repetitive_digit_pair = r\"_________\"\n",
        "\n",
        "import re\n",
        "P = input()\n",
        "\n",
        "print (bool(re.match(regex_integer_in_range, P)) \n",
        "and len(re.findall(regex_alternating_repetitive_digit_pair, P)) < 2)"
      ],
      "execution_count": 15,
      "outputs": [
        {
          "output_type": "stream",
          "text": [
            "110000\n",
            "False\n"
          ],
          "name": "stdout"
        }
      ]
    }
  ]
}