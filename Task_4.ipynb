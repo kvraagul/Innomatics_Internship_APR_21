{
  "nbformat": 4,
  "nbformat_minor": 0,
  "metadata": {
    "colab": {
      "name": "Task-4.ipynb",
      "provenance": [],
      "authorship_tag": "ABX9TyPcReD45Yc9cTZshXur0ziP",
      "include_colab_link": true
    },
    "kernelspec": {
      "name": "python3",
      "display_name": "Python 3"
    },
    "language_info": {
      "name": "python"
    }
  },
  "cells": [
    {
      "cell_type": "markdown",
      "metadata": {
        "id": "view-in-github",
        "colab_type": "text"
      },
      "source": [
        "<a href=\"https://colab.research.google.com/github/kvraagul/Innomatics_Internship_APR_21/blob/main/Task_4.ipynb\" target=\"_parent\"><img src=\"https://colab.research.google.com/assets/colab-badge.svg\" alt=\"Open In Colab\"/></a>"
      ]
    },
    {
      "cell_type": "markdown",
      "metadata": {
        "id": "JkTmm5lAscYS"
      },
      "source": [
        "**INNOMATICS INTERNSHIP APRIL 2021**\n",
        "\n",
        "**TASK-4 (PYTHON PROGRAMMING)**"
      ]
    },
    {
      "cell_type": "code",
      "metadata": {
        "colab": {
          "base_uri": "https://localhost:8080/"
        },
        "id": "PWc-MgkLstQI",
        "outputId": "6b4b689b-8100-4e18-e599-f2b2eac6459b"
      },
      "source": [
        "#(sWAP cASE)\n",
        "\n",
        "swap = input()\n",
        "result = swap_case(swap)\n",
        "print(result)"
      ],
      "execution_count": null,
      "outputs": [
        {
          "output_type": "stream",
          "text": [
            "abcdefgHIJKLMNOpqrstUVWxyz\n",
            "ABCDEFGhijklmnoPQRSTuvwXYZ\n"
          ],
          "name": "stdout"
        }
      ]
    },
    {
      "cell_type": "code",
      "metadata": {
        "colab": {
          "base_uri": "https://localhost:8080/"
        },
        "id": "JSNa8ce-svcS",
        "outputId": "83e7a16f-c1d2-4ff5-cf53-e403ef3a7901"
      },
      "source": [
        " #(String Split and Join)\n",
        "\n",
        "def split_join(line):\n",
        "  return line.replace(' ','-')\n",
        " \n",
        " \n",
        "line=input()\n",
        "result=split_join(line)\n",
        "print(result)"
      ],
      "execution_count": null,
      "outputs": [
        {
          "output_type": "stream",
          "text": [
            "this is a pen\n",
            "this-is-a-pen\n"
          ],
          "name": "stdout"
        }
      ]
    },
    {
      "cell_type": "code",
      "metadata": {
        "colab": {
          "base_uri": "https://localhost:8080/"
        },
        "id": "Ob1OU0gfsvix",
        "outputId": "0f343f84-ac3f-41c8-a3b3-2433919113bd"
      },
      "source": [
        "#(Whats 's Your Name)\n",
        "\n",
        "def print_full_name(first, last):\n",
        "    print(\"Hello {} {}! You just delved into python.\".format(first,last))\n",
        "\n",
        "if __name__ == '__main__':\n",
        "    first_name = input()\n",
        "    last_name = input()\n",
        "    print_full_name(first_name, last_name)"
      ],
      "execution_count": null,
      "outputs": [
        {
          "output_type": "stream",
          "text": [
            "Raagul\n",
            "K V\n",
            "Hello Raagul K V! You just delved into python.\n"
          ],
          "name": "stdout"
        }
      ]
    },
    {
      "cell_type": "code",
      "metadata": {
        "colab": {
          "base_uri": "https://localhost:8080/"
        },
        "id": "dwcAOrF4svpU",
        "outputId": "3ebba20b-6c4c-4930-bad6-cb91123634ab"
      },
      "source": [
        "#(Mutations)\n",
        "\n",
        "def mutate_string(string, position, character):\n",
        "    return string[:position] + character + string[(position+1):]\n",
        "\n",
        "if __name__ == '__main__':\n",
        "    s = input()\n",
        "    i, c = input().split()\n",
        "    s_new = mutate_string(s, int(i), c)\n",
        "    print(s_new)"
      ],
      "execution_count": null,
      "outputs": [
        {
          "output_type": "stream",
          "text": [
            "string\n",
            "1 p\n",
            "spring\n"
          ],
          "name": "stdout"
        }
      ]
    },
    {
      "cell_type": "code",
      "metadata": {
        "colab": {
          "base_uri": "https://localhost:8080/"
        },
        "id": "O-w_hUwisvwA",
        "outputId": "04509e1b-7c40-44f3-e5da-919d35d13a11"
      },
      "source": [
        "#(Find a string)\n",
        "\n",
        "def count_substring(string, sub_string):\n",
        "    len_SubString= len(sub_string)\n",
        "    result = 0\n",
        "    for i in range(len(string)+1-len_SubString):\n",
        "        if string[i:i+len_SubString]==sub_string:\n",
        "            result+=1\n",
        "        else:\n",
        "            continue\n",
        "    \n",
        "    return result\n",
        "\n",
        "    \n",
        "if __name__ == '__main__':\n",
        "    string = input().strip()\n",
        "    sub_string = input().strip()\n",
        "    \n",
        "    count = count_substring(string, sub_string)\n",
        "    print(count)"
      ],
      "execution_count": null,
      "outputs": [
        {
          "output_type": "stream",
          "text": [
            "ABCDCDABC\n",
            "ABC\n",
            "2\n"
          ],
          "name": "stdout"
        }
      ]
    },
    {
      "cell_type": "code",
      "metadata": {
        "id": "6h9GZvL_sv19",
        "colab": {
          "base_uri": "https://localhost:8080/"
        },
        "outputId": "f91d731c-4b31-4e73-dded-36469b850a96"
      },
      "source": [
        "#(String Validators)\n",
        "\n",
        "if __name__ == '__main__':\n",
        "    s = input()\n",
        "    print(any(c.isalnum()  for c in s))\n",
        "    print(any(c.isalpha() for c in s))\n",
        "    print(any(c.isdigit() for c in s))\n",
        "    print(any(c.islower() for c in s))\n",
        "    print(any(c.isupper() for c in s))"
      ],
      "execution_count": 18,
      "outputs": [
        {
          "output_type": "stream",
          "text": [
            "qA2\n",
            "True\n",
            "True\n",
            "True\n",
            "True\n",
            "True\n"
          ],
          "name": "stdout"
        }
      ]
    },
    {
      "cell_type": "code",
      "metadata": {
        "id": "OsTnozsSsv9H",
        "colab": {
          "base_uri": "https://localhost:8080/"
        },
        "outputId": "7c26d76f-18ce-4809-8659-2024031157e4"
      },
      "source": [
        "#(Text Alignment)\n",
        "\n",
        "thickness = int(input()) #This must be an odd number\n",
        "c = 'H'\n",
        "\n",
        "#Top Cone\n",
        "for i in range(thickness):\n",
        "    print((c*i).rjust(thickness-1)+c+(c*i).ljust(thickness-1))\n",
        "\n",
        "#Top Pillars\n",
        "for i in range(thickness+1):\n",
        "    print((c*thickness).center(thickness*2)+(c*thickness).center(thickness*6))\n",
        "\n",
        "#Middle Belt\n",
        "for i in range((thickness+1)//2):\n",
        "    print((c*thickness*5).center(thickness*6))    \n",
        "\n",
        "#Bottom Pillars\n",
        "for i in range(thickness+1):\n",
        "    print((c*thickness).center(thickness*2)+(c*thickness).center(thickness*6))    \n",
        "\n",
        "#Bottom Cone\n",
        "for i in range(thickness):\n",
        "    print(((c*(thickness-i-1)).rjust(thickness)+c+(c*(thickness-i-1)).ljust(thickness)).rjust(thickness*6))"
      ],
      "execution_count": 17,
      "outputs": [
        {
          "output_type": "stream",
          "text": [
            "5\n",
            "    H    \n",
            "   HHH   \n",
            "  HHHHH  \n",
            " HHHHHHH \n",
            "HHHHHHHHH\n",
            "  HHHHH               HHHHH             \n",
            "  HHHHH               HHHHH             \n",
            "  HHHHH               HHHHH             \n",
            "  HHHHH               HHHHH             \n",
            "  HHHHH               HHHHH             \n",
            "  HHHHH               HHHHH             \n",
            "  HHHHHHHHHHHHHHHHHHHHHHHHH   \n",
            "  HHHHHHHHHHHHHHHHHHHHHHHHH   \n",
            "  HHHHHHHHHHHHHHHHHHHHHHHHH   \n",
            "  HHHHH               HHHHH             \n",
            "  HHHHH               HHHHH             \n",
            "  HHHHH               HHHHH             \n",
            "  HHHHH               HHHHH             \n",
            "  HHHHH               HHHHH             \n",
            "  HHHHH               HHHHH             \n",
            "                    HHHHHHHHH \n",
            "                     HHHHHHH  \n",
            "                      HHHHH   \n",
            "                       HHH    \n",
            "                        H     \n"
          ],
          "name": "stdout"
        }
      ]
    },
    {
      "cell_type": "code",
      "metadata": {
        "id": "5M-636J7swDe",
        "colab": {
          "base_uri": "https://localhost:8080/"
        },
        "outputId": "db966f05-3a6b-40da-eb52-03a00ab13aca"
      },
      "source": [
        "#(Text Wrap)\n",
        "\n",
        "import textwrap\n",
        "\n",
        "def wrap(string, max_width):\n",
        "    s= ''\n",
        "    for i in range(0,len(string),max_width):\n",
        "        s=s + string[i:i+max_width]+\"\\n\"\n",
        "    return s\n",
        "\n",
        "if __name__ == '__main__':\n",
        "    string, max_width = input(), int(input())\n",
        "    result = wrap(string, max_width)\n",
        "    print(result)"
      ],
      "execution_count": 1,
      "outputs": [
        {
          "output_type": "stream",
          "text": [
            "ABCDEFGHIJKLMNOPQRSTUVWXYZ\n",
            "3\n",
            "ABC\n",
            "DEF\n",
            "GHI\n",
            "JKL\n",
            "MNO\n",
            "PQR\n",
            "STU\n",
            "VWX\n",
            "YZ\n",
            "\n"
          ],
          "name": "stdout"
        }
      ]
    },
    {
      "cell_type": "code",
      "metadata": {
        "id": "jyXzaHcLswKV",
        "colab": {
          "base_uri": "https://localhost:8080/"
        },
        "outputId": "69a6d136-f68f-4ac2-ebe0-14309664cfee"
      },
      "source": [
        "#(Designer Door Mat)\n",
        "\n",
        "n, k = map(int , input(\"\").split(\" \"))\n",
        "st ='.|.'\n",
        "st1='-'\n",
        "avg = int((n+1)/2)\n",
        "for i in range(1,1+n):\n",
        "    if avg==i:\n",
        "        print(\"WELCOME\".center(k,st1))\n",
        "    elif i<avg:\n",
        "        print((st*(2*i-1)).center(k,st1))\n",
        "    elif avg<i:\n",
        "        print((st*(2*(n-i)+1)).center(k,st1))"
      ],
      "execution_count": 4,
      "outputs": [
        {
          "output_type": "stream",
          "text": [
            "10 30\n",
            "-------------.|.--------------\n",
            "----------.|..|..|.-----------\n",
            "-------.|..|..|..|..|.--------\n",
            "----.|..|..|..|..|..|..|.-----\n",
            "-----------WELCOME------------\n",
            "-.|..|..|..|..|..|..|..|..|.--\n",
            "----.|..|..|..|..|..|..|.-----\n",
            "-------.|..|..|..|..|.--------\n",
            "----------.|..|..|.-----------\n",
            "-------------.|.--------------\n"
          ],
          "name": "stdout"
        }
      ]
    },
    {
      "cell_type": "code",
      "metadata": {
        "id": "zPCcONMpswQM",
        "colab": {
          "base_uri": "https://localhost:8080/"
        },
        "outputId": "b4c92ce3-049a-4908-db11-509e37677d49"
      },
      "source": [
        "#String Formatting\n",
        "\n",
        "def print_formatted(number):\n",
        "    width = len(bin(number)[2:])\n",
        "    for i in range(1, number+1):\n",
        "        deci = str(i)\n",
        "        octa = oct(i)[2:]\n",
        "        hexa = hex(i)[2:].upper()\n",
        "        bina = bin(i)[2:]\n",
        "\n",
        "        print(deci.rjust(width),octa.rjust(width),hexa.rjust(width),bina.rjust(width))\n",
        "\n",
        "if __name__ == '__main__':\n",
        "    n = int(input())\n",
        "    print_formatted(n)"
      ],
      "execution_count": 16,
      "outputs": [
        {
          "output_type": "stream",
          "text": [
            "5\n",
            "  1   1   1   1\n",
            "  2   2   2  10\n",
            "  3   3   3  11\n",
            "  4   4   4 100\n",
            "  5   5   5 101\n"
          ],
          "name": "stdout"
        }
      ]
    },
    {
      "cell_type": "code",
      "metadata": {
        "id": "pi3PhMDiswWg",
        "colab": {
          "base_uri": "https://localhost:8080/"
        },
        "outputId": "27f2ac5f-b6c0-4c0e-beb1-794fc5217565"
      },
      "source": [
        "#(Alphabet Rangoli)\n",
        "\n",
        "import string\n",
        "\n",
        "size = int(input())\n",
        "alphabet = string.ascii_lowercase\n",
        "\n",
        "for i in range(size - 1, 0, -1):\n",
        "    row = [\"-\"] * (size * 2 - 1)\n",
        "    for j in range(0, size - i):\n",
        "        row[size - 1 - j] = alphabet[j + i]\n",
        "        row[size - 1 + j] = alphabet[j + i]\n",
        "    print(\"-\".join(row))\n",
        "\n",
        "for i in range(0, size):\n",
        "    row = [\"-\"] * (size * 2 - 1)\n",
        "    for j in range(0, size - i):\n",
        "        row[size - 1 - j] = alphabet[j + i]\n",
        "        row[size - 1 + j] = alphabet[j + i]\n",
        "    print(\"-\".join(row))"
      ],
      "execution_count": 6,
      "outputs": [
        {
          "output_type": "stream",
          "text": [
            "4\n",
            "------d------\n",
            "----d-c-d----\n",
            "--d-c-b-c-d--\n",
            "d-c-b-a-b-c-d\n",
            "--d-c-b-c-d--\n",
            "----d-c-d----\n",
            "------d------\n"
          ],
          "name": "stdout"
        }
      ]
    },
    {
      "cell_type": "code",
      "metadata": {
        "id": "FqzASiZNswdv",
        "colab": {
          "base_uri": "https://localhost:8080/"
        },
        "outputId": "7bf27788-8a13-4c33-bc97-111d9dd7099a"
      },
      "source": [
        "#(Capitalize!)\n",
        "\n",
        "cap=input()\n",
        "\n",
        "for x in cap[:].split():\n",
        "  cap = cap.replace(x, x.capitalize())\n",
        "  print(cap)\n",
        "\n"
      ],
      "execution_count": 15,
      "outputs": [
        {
          "output_type": "stream",
          "text": [
            "andfjsabf\n",
            "Andfjsabf\n"
          ],
          "name": "stdout"
        }
      ]
    },
    {
      "cell_type": "code",
      "metadata": {
        "colab": {
          "base_uri": "https://localhost:8080/"
        },
        "id": "-9Wvm6DyMwMt",
        "outputId": "3ec62fab-5af9-48cc-d446-5eb501c84fb7"
      },
      "source": [
        "# Minion Game\n",
        "\n",
        "def minion_game(string):\n",
        "    vowel =['A','E','I','O','U']\n",
        "    S=0\n",
        "    K=0\n",
        "    for i in range(len(string)):\n",
        "        if string[i] in vowel:\n",
        "            K+= len(string)-i\n",
        "        else:\n",
        "            S+=len(string)-i\n",
        "    if S>K:\n",
        "        print(\"Stuart\"+\" \"+ \"%d\" % S)\n",
        "    elif K>S:\n",
        "        print(\"Kevin\"+\" \"+'%d' % K)\n",
        "    else:\n",
        "        print(\"Draw\")\n",
        "\n",
        "if __name__ == '__main__':\n",
        "    s = input()\n",
        "    minion_game(s)"
      ],
      "execution_count": 19,
      "outputs": [
        {
          "output_type": "stream",
          "text": [
            "BANANA\n",
            "Stuart 12\n"
          ],
          "name": "stdout"
        }
      ]
    }
  ]
}