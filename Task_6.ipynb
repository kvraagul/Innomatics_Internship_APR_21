{
  "nbformat": 4,
  "nbformat_minor": 0,
  "metadata": {
    "colab": {
      "name": "Task_6.ipynb",
      "provenance": [],
      "authorship_tag": "ABX9TyPtu7bWEYCVbX3p6zbTsGRZ",
      "include_colab_link": true
    },
    "kernelspec": {
      "name": "python3",
      "display_name": "Python 3"
    },
    "language_info": {
      "name": "python"
    }
  },
  "cells": [
    {
      "cell_type": "markdown",
      "metadata": {
        "id": "view-in-github",
        "colab_type": "text"
      },
      "source": [
        "<a href=\"https://colab.research.google.com/github/kvraagul/Innomatics_Internship_APR_21/blob/main/Task_6.ipynb\" target=\"_parent\"><img src=\"https://colab.research.google.com/assets/colab-badge.svg\" alt=\"Open In Colab\"/></a>"
      ]
    },
    {
      "cell_type": "markdown",
      "metadata": {
        "id": "wRj1mxk2l1_h"
      },
      "source": [
        "**INNOMATICS INTERNSHIP APRIL 2021**\n",
        "\n",
        "**TASK 6**"
      ]
    },
    {
      "cell_type": "code",
      "metadata": {
        "id": "LbmKx9t2n95P"
      },
      "source": [
        "import numpy"
      ],
      "execution_count": null,
      "outputs": []
    },
    {
      "cell_type": "code",
      "metadata": {
        "id": "-e7pWzRrmB48"
      },
      "source": [
        "# Arrays\n",
        "\n",
        "def arrays(arr):\n",
        "    \n",
        "    return (numpy.array(arr[::-1],float))\n",
        "\n",
        "arr = input().strip().split(' ')\n",
        "result = arrays(arr)\n",
        "print(result)"
      ],
      "execution_count": null,
      "outputs": []
    },
    {
      "cell_type": "code",
      "metadata": {
        "id": "1bo1MrA2mffT"
      },
      "source": [
        "# Shape and Reshape\n",
        "\n",
        "print(numpy.array(input().split(),int).reshape(3,3))\n"
      ],
      "execution_count": null,
      "outputs": []
    },
    {
      "cell_type": "code",
      "metadata": {
        "id": "9KM-2eO8mfjX"
      },
      "source": [
        "# Transpose and flatten\n",
        "\n",
        "n, m = map(int, input().split())\n",
        "array = numpy.array([input().strip().split() for _ in range(n)], int)\n",
        "print (array.transpose())\n",
        "print (array.flatten())"
      ],
      "execution_count": null,
      "outputs": []
    },
    {
      "cell_type": "code",
      "metadata": {
        "id": "3WZ2AyMPmfmV"
      },
      "source": [
        "# Concatenate\n",
        "\n",
        "a, b, c = map(int,input().split())\n",
        "arr1 = numpy.array([input().split() for _ in range(a)],int)\n",
        "arr2 = numpy.array([input().split() for _ in range(b)],int)\n",
        "print(numpy.concatenate((arr1, arr2), axis = 0)"
      ],
      "execution_count": null,
      "outputs": []
    },
    {
      "cell_type": "code",
      "metadata": {
        "id": "WDtEbtjfmfo6"
      },
      "source": [
        "# Zeros and ones\n",
        "\n",
        "N = tuple(map(int, input().split()))\n",
        "print(numpy.zeros(N, int))\n",
        "print(numpy.ones(N, int))"
      ],
      "execution_count": null,
      "outputs": []
    },
    {
      "cell_type": "code",
      "metadata": {
        "id": "kppbdGTQmfsE"
      },
      "source": [
        "# Eye and Identity\n",
        "\n",
        "numpy.set_printoptions(sign=' ')\n",
        "print(numpy.eye(*map(int, input().split())))"
      ],
      "execution_count": null,
      "outputs": []
    },
    {
      "cell_type": "code",
      "metadata": {
        "id": "EEixYZGamfu7"
      },
      "source": [
        "# Array Mathematics\n",
        "\n",
        "N, M = map(int, input().split())\n",
        "\n",
        "A = numpy.array([list(map(int, input().split())) for n in range(N)])\n",
        "B = numpy.array([list(map(int, input().split())) for n in range(N)])\n",
        "\n",
        "print(A + B)\n",
        "print(A - B)\n",
        "print(A * B)\n",
        "print(A // B)\n",
        "print(A % B)\n",
        "print(A ** B)"
      ],
      "execution_count": null,
      "outputs": []
    },
    {
      "cell_type": "code",
      "metadata": {
        "id": "e3ZJx1T2mfxx"
      },
      "source": [
        "# Floor, Ceil and Rint\n",
        "\n",
        "numpy.set_printoptions(sign=' ')\n",
        "\n",
        "array = numpy.array(input().split(),float)\n",
        "\n",
        "print(numpy.floor(array))\n",
        "print(numpy.ceil(array))\n",
        "print(numpy.rint(array))"
      ],
      "execution_count": null,
      "outputs": []
    },
    {
      "cell_type": "code",
      "metadata": {
        "id": "q4m1x6FOmf0q"
      },
      "source": [
        "# Sum and Prod\n",
        "\n",
        "N, M = map(int, input().split())\n",
        "A = numpy.array([input().split() for _ in range(N)], int)\n",
        "print(numpy.prod(numpy.sum(A, axis=0), axis=0))\n"
      ],
      "execution_count": null,
      "outputs": []
    },
    {
      "cell_type": "code",
      "metadata": {
        "id": "YcbOGvjEjPDv"
      },
      "source": [
        "# Min and Max\n",
        "\n",
        "N, M = map(int, input().split())\n",
        "print(numpy.array([input().split() for _ in range(int(N))], int).min(1).max())"
      ],
      "execution_count": null,
      "outputs": []
    },
    {
      "cell_type": "code",
      "metadata": {
        "id": "evt_9sbyjPND"
      },
      "source": [
        "# Mean, Var, and Std\n",
        "\n",
        "n, m = map(int, input().split())\n",
        "k = numpy.array([input().split() for _ in range(n)],dtype = int)\n",
        "numpy.set_printoptions(legacy='1.13')\n",
        "print(numpy.mean(k,axis=1), numpy.var(k,axis=0), numpy.std(k), sep='\\n')\n"
      ],
      "execution_count": null,
      "outputs": []
    },
    {
      "cell_type": "code",
      "metadata": {
        "id": "UUT5sMeijPUe"
      },
      "source": [
        "# Dot and Cross\n",
        "\n",
        "n = int(input())\n",
        "a = numpy.array([input().split() for _ in range(n)], int)\n",
        "b = numpy.array([input().split() for _ in range(n)], int)\n",
        "print(numpy.dot(a, b))"
      ],
      "execution_count": null,
      "outputs": []
    },
    {
      "cell_type": "code",
      "metadata": {
        "id": "62StzeozjPcB"
      },
      "source": [
        "# Polynomials\n",
        "\n",
        "poly = [float(x) for x in input().split()]\n",
        "x = float(input())\n",
        "\n",
        "print(numpy.polyval(poly, x))"
      ],
      "execution_count": null,
      "outputs": []
    },
    {
      "cell_type": "code",
      "metadata": {
        "id": "4oE-y1l-jPkE"
      },
      "source": [
        "# Inner and Outer\n",
        "\n",
        "a = numpy.array(input().split(), int)\n",
        "b = numpy.array(input().split(), int)\n",
        "print(numpy.inner(a, b), numpy.outer(a, b), sep='\\n')"
      ],
      "execution_count": null,
      "outputs": []
    },
    {
      "cell_type": "code",
      "metadata": {
        "id": "jffgMz1LjPrs"
      },
      "source": [
        "# Linear Algebra\n",
        "\n",
        "N = int(input())\n",
        "A = numpy.array([input().split() for _ in range(N)], float)\n",
        "print(round(numpy.linalg.det(A),2))"
      ],
      "execution_count": null,
      "outputs": []
    }
  ]
}