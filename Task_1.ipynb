{
 "cells": [
  {
   "cell_type": "markdown",
   "metadata": {},
   "source": [
    "# INNOMATICS INTERNSHIP APRIL 2021\n",
    "\n",
    "## TASK 1\n"
   ]
  },
  {
   "cell_type": "code",
   "execution_count": 1,
   "metadata": {},
   "outputs": [
    {
     "name": "stdout",
     "output_type": "stream",
     "text": [
      "Hello, World!\n"
     ]
    }
   ],
   "source": [
    "#Question 1\n",
    "\n",
    "print(\"Hello, World!\")"
   ]
  },
  {
   "cell_type": "code",
   "execution_count": 2,
   "metadata": {},
   "outputs": [
    {
     "name": "stdout",
     "output_type": "stream",
     "text": [
      "enter a value = 4\n",
      "Not Weird\n"
     ]
    }
   ],
   "source": [
    "#Question 2\n",
    "\n",
    "n=int(input('enter a value = '))\n",
    "\n",
    "if n%2==0:\n",
    "    if n in range(2,5):\n",
    "        print('Not Weird')\n",
    "    elif n in range(6,21):\n",
    "        print('Weird')\n",
    "    elif n > 20:\n",
    "        print('Not Weird')\n",
    "\n",
    "else:\n",
    "    print('Weird')"
   ]
  },
  {
   "cell_type": "code",
   "execution_count": 3,
   "metadata": {},
   "outputs": [
    {
     "name": "stdout",
     "output_type": "stream",
     "text": [
      "enter value of a = 10\n",
      "enter value of b = 5\n",
      "15 \n",
      "5 \n",
      "50\n"
     ]
    }
   ],
   "source": [
    "#Question 3\n",
    "\n",
    "a=int(input('enter value of a = '))\n",
    "b=int(input('enter value of b = '))\n",
    "\n",
    "print('{} \\n{} \\n{}'.format((a + b),(a - b),(a * b)))"
   ]
  },
  {
   "cell_type": "code",
   "execution_count": 4,
   "metadata": {},
   "outputs": [
    {
     "name": "stdout",
     "output_type": "stream",
     "text": [
      "enter value of a = 10\n",
      "enter value of b = 6\n",
      "1 \n",
      "1.6666666666666667\n"
     ]
    }
   ],
   "source": [
    "#Question 4\n",
    "\n",
    "a=int(input('enter value of a = '))\n",
    "b=int(input('enter value of b = '))\n",
    "\n",
    "print(\"{} \\n{}\".format(a//b, a/b))"
   ]
  },
  {
   "cell_type": "code",
   "execution_count": 5,
   "metadata": {},
   "outputs": [
    {
     "name": "stdout",
     "output_type": "stream",
     "text": [
      "enter a value = 5\n",
      "0\n",
      "1\n",
      "4\n",
      "9\n",
      "16\n"
     ]
    }
   ],
   "source": [
    "#Question 5\n",
    "\n",
    "n=int(input('enter a value = '))\n",
    "\n",
    "for i in range(0,n):\n",
    "    print(i*i)\n",
    "    "
   ]
  },
  {
   "cell_type": "code",
   "execution_count": 6,
   "metadata": {},
   "outputs": [
    {
     "name": "stdout",
     "output_type": "stream",
     "text": [
      "enter the year1800\n",
      "False\n"
     ]
    }
   ],
   "source": [
    "#Question 6\n",
    "\n",
    "def is_leap(year):\n",
    "    if year % 400 == 0:\n",
    "        return True\n",
    "    elif year % 100 == 0:\n",
    "        return False\n",
    "    elif year % 4 == 0:\n",
    "        return True\n",
    "    else:\n",
    "        return False\n",
    "\n",
    "year = int(input('enter the year'))\n",
    "print(is_leap(year))"
   ]
  },
  {
   "cell_type": "code",
   "execution_count": 7,
   "metadata": {},
   "outputs": [
    {
     "name": "stdout",
     "output_type": "stream",
     "text": [
      "enter a value = 6\n",
      "123456"
     ]
    }
   ],
   "source": [
    "#Question 7\n",
    "\n",
    "n=int(input('enter a value = '))\n",
    "\n",
    "for i in range(1,n+1):\n",
    "  print(i,end='')"
   ]
  },
  {
   "cell_type": "code",
   "execution_count": null,
   "metadata": {},
   "outputs": [],
   "source": []
  }
 ],
 "metadata": {
  "kernelspec": {
   "display_name": "Python 3",
   "language": "python",
   "name": "python3"
  },
  "language_info": {
   "codemirror_mode": {
    "name": "ipython",
    "version": 3
   },
   "file_extension": ".py",
   "mimetype": "text/x-python",
   "name": "python",
   "nbconvert_exporter": "python",
   "pygments_lexer": "ipython3",
   "version": "3.8.5"
  }
 },
 "nbformat": 4,
 "nbformat_minor": 4
}
