{
  "nbformat": 4,
  "nbformat_minor": 0,
  "metadata": {
    "colab": {
      "name": "Task_10(EDA).ipynb",
      "provenance": [],
      "authorship_tag": "ABX9TyPvvWFdq1hlzIvTOzcNEroG",
      "include_colab_link": true
    },
    "kernelspec": {
      "name": "python3",
      "display_name": "Python 3"
    },
    "language_info": {
      "name": "python"
    }
  },
  "cells": [
    {
      "cell_type": "markdown",
      "metadata": {
        "id": "view-in-github",
        "colab_type": "text"
      },
      "source": [
        "<a href=\"https://colab.research.google.com/github/kvraagul/Innomatics_Internship_APR_21/blob/main/Task_10(EDA).ipynb\" target=\"_parent\"><img src=\"https://colab.research.google.com/assets/colab-badge.svg\" alt=\"Open In Colab\"/></a>"
      ]
    },
    {
      "cell_type": "markdown",
      "metadata": {
        "id": "NPrY_38L4vT2"
      },
      "source": [
        "**INNOMATICS INTERNSHIP APRIL 2021**\n",
        "\n",
        "**TASK 10 EXPLORATORY DATA ANALYSIS**"
      ]
    },
    {
      "cell_type": "markdown",
      "metadata": {
        "id": "Eo1j0ihv4hc2"
      },
      "source": [
        "# Importing the Libraries"
      ]
    },
    {
      "cell_type": "code",
      "metadata": {
        "id": "InF6KaxE01kS"
      },
      "source": [
        "import numpy as np\n",
        "import pandas as pd\n",
        "import seaborn as sns\n",
        "import matplotlib.pyplot as plt\n",
        "%matplotlib inline"
      ],
      "execution_count": null,
      "outputs": []
    },
    {
      "cell_type": "markdown",
      "metadata": {
        "id": "GljIsYBG4l3T"
      },
      "source": [
        "# Importing the Dataset"
      ]
    },
    {
      "cell_type": "code",
      "metadata": {
        "id": "lyvGVcYj1DEf"
      },
      "source": [
        "dataset = pd.read_excel('aspiring_minds_employability_outcomes_2015.xlsx')"
      ],
      "execution_count": null,
      "outputs": []
    },
    {
      "cell_type": "markdown",
      "metadata": {
        "id": "R1AyEuPK3qYT"
      },
      "source": [
        "# Description of Dataset "
      ]
    },
    {
      "cell_type": "code",
      "metadata": {
        "colab": {
          "base_uri": "https://localhost:8080/",
          "height": 383
        },
        "id": "Qk8SoSJq2P-M",
        "outputId": "f0703684-ee2c-47d3-a9bb-012ebeebbb38"
      },
      "source": [
        "dataset.head()"
      ],
      "execution_count": null,
      "outputs": [
        {
          "output_type": "execute_result",
          "data": {
            "text/html": [
              "<div>\n",
              "<style scoped>\n",
              "    .dataframe tbody tr th:only-of-type {\n",
              "        vertical-align: middle;\n",
              "    }\n",
              "\n",
              "    .dataframe tbody tr th {\n",
              "        vertical-align: top;\n",
              "    }\n",
              "\n",
              "    .dataframe thead th {\n",
              "        text-align: right;\n",
              "    }\n",
              "</style>\n",
              "<table border=\"1\" class=\"dataframe\">\n",
              "  <thead>\n",
              "    <tr style=\"text-align: right;\">\n",
              "      <th></th>\n",
              "      <th>Unnamed: 0</th>\n",
              "      <th>Salary</th>\n",
              "      <th>DOJ</th>\n",
              "      <th>DOL</th>\n",
              "      <th>Designation</th>\n",
              "      <th>JobCity</th>\n",
              "      <th>Gender</th>\n",
              "      <th>DOB</th>\n",
              "      <th>10percentage</th>\n",
              "      <th>10board</th>\n",
              "      <th>12graduation</th>\n",
              "      <th>12percentage</th>\n",
              "      <th>12board</th>\n",
              "      <th>CollegeID</th>\n",
              "      <th>CollegeTier</th>\n",
              "      <th>Degree</th>\n",
              "      <th>Specialization</th>\n",
              "      <th>collegeGPA</th>\n",
              "      <th>CollegeCityID</th>\n",
              "      <th>CollegeCityTier</th>\n",
              "      <th>CollegeState</th>\n",
              "      <th>GraduationYear</th>\n",
              "      <th>English</th>\n",
              "      <th>Logical</th>\n",
              "      <th>Quant</th>\n",
              "      <th>Domain</th>\n",
              "      <th>ComputerProgramming</th>\n",
              "      <th>ElectronicsAndSemicon</th>\n",
              "      <th>ComputerScience</th>\n",
              "      <th>MechanicalEngg</th>\n",
              "      <th>ElectricalEngg</th>\n",
              "      <th>TelecomEngg</th>\n",
              "      <th>CivilEngg</th>\n",
              "      <th>conscientiousness</th>\n",
              "      <th>agreeableness</th>\n",
              "      <th>extraversion</th>\n",
              "      <th>nueroticism</th>\n",
              "      <th>openess_to_experience</th>\n",
              "    </tr>\n",
              "  </thead>\n",
              "  <tbody>\n",
              "    <tr>\n",
              "      <th>0</th>\n",
              "      <td>train</td>\n",
              "      <td>420000</td>\n",
              "      <td>2012-06-01</td>\n",
              "      <td>present</td>\n",
              "      <td>senior quality engineer</td>\n",
              "      <td>Bangalore</td>\n",
              "      <td>f</td>\n",
              "      <td>1990-02-19</td>\n",
              "      <td>84.3</td>\n",
              "      <td>board ofsecondary education,ap</td>\n",
              "      <td>2007</td>\n",
              "      <td>95.8</td>\n",
              "      <td>board of intermediate education,ap</td>\n",
              "      <td>1141</td>\n",
              "      <td>2</td>\n",
              "      <td>B.Tech/B.E.</td>\n",
              "      <td>computer engineering</td>\n",
              "      <td>78.00</td>\n",
              "      <td>1141</td>\n",
              "      <td>0</td>\n",
              "      <td>Andhra Pradesh</td>\n",
              "      <td>2011</td>\n",
              "      <td>515</td>\n",
              "      <td>585</td>\n",
              "      <td>525</td>\n",
              "      <td>0.635979</td>\n",
              "      <td>445</td>\n",
              "      <td>-1</td>\n",
              "      <td>-1</td>\n",
              "      <td>-1</td>\n",
              "      <td>-1</td>\n",
              "      <td>-1</td>\n",
              "      <td>-1</td>\n",
              "      <td>0.9737</td>\n",
              "      <td>0.8128</td>\n",
              "      <td>0.5269</td>\n",
              "      <td>1.35490</td>\n",
              "      <td>-0.4455</td>\n",
              "    </tr>\n",
              "    <tr>\n",
              "      <th>1</th>\n",
              "      <td>train</td>\n",
              "      <td>500000</td>\n",
              "      <td>2013-09-01</td>\n",
              "      <td>present</td>\n",
              "      <td>assistant manager</td>\n",
              "      <td>Indore</td>\n",
              "      <td>m</td>\n",
              "      <td>1989-10-04</td>\n",
              "      <td>85.4</td>\n",
              "      <td>cbse</td>\n",
              "      <td>2007</td>\n",
              "      <td>85.0</td>\n",
              "      <td>cbse</td>\n",
              "      <td>5807</td>\n",
              "      <td>2</td>\n",
              "      <td>B.Tech/B.E.</td>\n",
              "      <td>electronics and communication engineering</td>\n",
              "      <td>70.06</td>\n",
              "      <td>5807</td>\n",
              "      <td>0</td>\n",
              "      <td>Madhya Pradesh</td>\n",
              "      <td>2012</td>\n",
              "      <td>695</td>\n",
              "      <td>610</td>\n",
              "      <td>780</td>\n",
              "      <td>0.960603</td>\n",
              "      <td>-1</td>\n",
              "      <td>466</td>\n",
              "      <td>-1</td>\n",
              "      <td>-1</td>\n",
              "      <td>-1</td>\n",
              "      <td>-1</td>\n",
              "      <td>-1</td>\n",
              "      <td>-0.7335</td>\n",
              "      <td>0.3789</td>\n",
              "      <td>1.2396</td>\n",
              "      <td>-0.10760</td>\n",
              "      <td>0.8637</td>\n",
              "    </tr>\n",
              "    <tr>\n",
              "      <th>2</th>\n",
              "      <td>train</td>\n",
              "      <td>325000</td>\n",
              "      <td>2014-06-01</td>\n",
              "      <td>present</td>\n",
              "      <td>systems engineer</td>\n",
              "      <td>Chennai</td>\n",
              "      <td>f</td>\n",
              "      <td>1992-08-03</td>\n",
              "      <td>85.0</td>\n",
              "      <td>cbse</td>\n",
              "      <td>2010</td>\n",
              "      <td>68.2</td>\n",
              "      <td>cbse</td>\n",
              "      <td>64</td>\n",
              "      <td>2</td>\n",
              "      <td>B.Tech/B.E.</td>\n",
              "      <td>information technology</td>\n",
              "      <td>70.00</td>\n",
              "      <td>64</td>\n",
              "      <td>0</td>\n",
              "      <td>Uttar Pradesh</td>\n",
              "      <td>2014</td>\n",
              "      <td>615</td>\n",
              "      <td>545</td>\n",
              "      <td>370</td>\n",
              "      <td>0.450877</td>\n",
              "      <td>395</td>\n",
              "      <td>-1</td>\n",
              "      <td>-1</td>\n",
              "      <td>-1</td>\n",
              "      <td>-1</td>\n",
              "      <td>-1</td>\n",
              "      <td>-1</td>\n",
              "      <td>0.2718</td>\n",
              "      <td>1.7109</td>\n",
              "      <td>0.1637</td>\n",
              "      <td>-0.86820</td>\n",
              "      <td>0.6721</td>\n",
              "    </tr>\n",
              "    <tr>\n",
              "      <th>3</th>\n",
              "      <td>train</td>\n",
              "      <td>1100000</td>\n",
              "      <td>2011-07-01</td>\n",
              "      <td>present</td>\n",
              "      <td>senior software engineer</td>\n",
              "      <td>Gurgaon</td>\n",
              "      <td>m</td>\n",
              "      <td>1989-12-05</td>\n",
              "      <td>85.6</td>\n",
              "      <td>cbse</td>\n",
              "      <td>2007</td>\n",
              "      <td>83.6</td>\n",
              "      <td>cbse</td>\n",
              "      <td>6920</td>\n",
              "      <td>1</td>\n",
              "      <td>B.Tech/B.E.</td>\n",
              "      <td>computer engineering</td>\n",
              "      <td>74.64</td>\n",
              "      <td>6920</td>\n",
              "      <td>1</td>\n",
              "      <td>Delhi</td>\n",
              "      <td>2011</td>\n",
              "      <td>635</td>\n",
              "      <td>585</td>\n",
              "      <td>625</td>\n",
              "      <td>0.974396</td>\n",
              "      <td>615</td>\n",
              "      <td>-1</td>\n",
              "      <td>-1</td>\n",
              "      <td>-1</td>\n",
              "      <td>-1</td>\n",
              "      <td>-1</td>\n",
              "      <td>-1</td>\n",
              "      <td>0.0464</td>\n",
              "      <td>0.3448</td>\n",
              "      <td>-0.3440</td>\n",
              "      <td>-0.40780</td>\n",
              "      <td>-0.9194</td>\n",
              "    </tr>\n",
              "    <tr>\n",
              "      <th>4</th>\n",
              "      <td>train</td>\n",
              "      <td>200000</td>\n",
              "      <td>2014-03-01</td>\n",
              "      <td>2015-03-01 00:00:00</td>\n",
              "      <td>get</td>\n",
              "      <td>Manesar</td>\n",
              "      <td>m</td>\n",
              "      <td>1991-02-27</td>\n",
              "      <td>78.0</td>\n",
              "      <td>cbse</td>\n",
              "      <td>2008</td>\n",
              "      <td>76.8</td>\n",
              "      <td>cbse</td>\n",
              "      <td>11368</td>\n",
              "      <td>2</td>\n",
              "      <td>B.Tech/B.E.</td>\n",
              "      <td>electronics and communication engineering</td>\n",
              "      <td>73.90</td>\n",
              "      <td>11368</td>\n",
              "      <td>0</td>\n",
              "      <td>Uttar Pradesh</td>\n",
              "      <td>2012</td>\n",
              "      <td>545</td>\n",
              "      <td>625</td>\n",
              "      <td>465</td>\n",
              "      <td>0.124502</td>\n",
              "      <td>-1</td>\n",
              "      <td>233</td>\n",
              "      <td>-1</td>\n",
              "      <td>-1</td>\n",
              "      <td>-1</td>\n",
              "      <td>-1</td>\n",
              "      <td>-1</td>\n",
              "      <td>-0.8810</td>\n",
              "      <td>-0.2793</td>\n",
              "      <td>-1.0697</td>\n",
              "      <td>0.09163</td>\n",
              "      <td>-0.1295</td>\n",
              "    </tr>\n",
              "  </tbody>\n",
              "</table>\n",
              "</div>"
            ],
            "text/plain": [
              "  Unnamed: 0   Salary  ... nueroticism openess_to_experience\n",
              "0      train   420000  ...     1.35490               -0.4455\n",
              "1      train   500000  ...    -0.10760                0.8637\n",
              "2      train   325000  ...    -0.86820                0.6721\n",
              "3      train  1100000  ...    -0.40780               -0.9194\n",
              "4      train   200000  ...     0.09163               -0.1295\n",
              "\n",
              "[5 rows x 38 columns]"
            ]
          },
          "metadata": {
            "tags": []
          },
          "execution_count": 26
        }
      ]
    },
    {
      "cell_type": "code",
      "metadata": {
        "colab": {
          "base_uri": "https://localhost:8080/"
        },
        "id": "L4q4hi912qNU",
        "outputId": "340554f1-27d7-4a5f-f618-71f3d0b111c8"
      },
      "source": [
        "dataset.shape"
      ],
      "execution_count": null,
      "outputs": [
        {
          "output_type": "execute_result",
          "data": {
            "text/plain": [
              "(3998, 38)"
            ]
          },
          "metadata": {
            "tags": []
          },
          "execution_count": 27
        }
      ]
    },
    {
      "cell_type": "code",
      "metadata": {
        "colab": {
          "base_uri": "https://localhost:8080/",
          "height": 304
        },
        "id": "Qy59D7BT2tWU",
        "outputId": "436f0725-576f-49a1-84a2-6b5aae2d8bb9"
      },
      "source": [
        "dataset.describe()"
      ],
      "execution_count": null,
      "outputs": [
        {
          "output_type": "execute_result",
          "data": {
            "text/html": [
              "<div>\n",
              "<style scoped>\n",
              "    .dataframe tbody tr th:only-of-type {\n",
              "        vertical-align: middle;\n",
              "    }\n",
              "\n",
              "    .dataframe tbody tr th {\n",
              "        vertical-align: top;\n",
              "    }\n",
              "\n",
              "    .dataframe thead th {\n",
              "        text-align: right;\n",
              "    }\n",
              "</style>\n",
              "<table border=\"1\" class=\"dataframe\">\n",
              "  <thead>\n",
              "    <tr style=\"text-align: right;\">\n",
              "      <th></th>\n",
              "      <th>Salary</th>\n",
              "      <th>10percentage</th>\n",
              "      <th>12graduation</th>\n",
              "      <th>12percentage</th>\n",
              "      <th>CollegeID</th>\n",
              "      <th>CollegeTier</th>\n",
              "      <th>collegeGPA</th>\n",
              "      <th>CollegeCityID</th>\n",
              "      <th>CollegeCityTier</th>\n",
              "      <th>GraduationYear</th>\n",
              "      <th>English</th>\n",
              "      <th>Logical</th>\n",
              "      <th>Quant</th>\n",
              "      <th>Domain</th>\n",
              "      <th>ComputerProgramming</th>\n",
              "      <th>ElectronicsAndSemicon</th>\n",
              "      <th>ComputerScience</th>\n",
              "      <th>MechanicalEngg</th>\n",
              "      <th>ElectricalEngg</th>\n",
              "      <th>TelecomEngg</th>\n",
              "      <th>CivilEngg</th>\n",
              "      <th>conscientiousness</th>\n",
              "      <th>agreeableness</th>\n",
              "      <th>extraversion</th>\n",
              "      <th>nueroticism</th>\n",
              "      <th>openess_to_experience</th>\n",
              "    </tr>\n",
              "  </thead>\n",
              "  <tbody>\n",
              "    <tr>\n",
              "      <th>count</th>\n",
              "      <td>3.998000e+03</td>\n",
              "      <td>3998.000000</td>\n",
              "      <td>3998.000000</td>\n",
              "      <td>3998.000000</td>\n",
              "      <td>3998.000000</td>\n",
              "      <td>3998.000000</td>\n",
              "      <td>3998.000000</td>\n",
              "      <td>3998.000000</td>\n",
              "      <td>3998.000000</td>\n",
              "      <td>3998.000000</td>\n",
              "      <td>3998.000000</td>\n",
              "      <td>3998.000000</td>\n",
              "      <td>3998.000000</td>\n",
              "      <td>3998.000000</td>\n",
              "      <td>3998.000000</td>\n",
              "      <td>3998.000000</td>\n",
              "      <td>3998.000000</td>\n",
              "      <td>3998.000000</td>\n",
              "      <td>3998.000000</td>\n",
              "      <td>3998.000000</td>\n",
              "      <td>3998.000000</td>\n",
              "      <td>3998.000000</td>\n",
              "      <td>3998.000000</td>\n",
              "      <td>3998.000000</td>\n",
              "      <td>3998.000000</td>\n",
              "      <td>3998.000000</td>\n",
              "    </tr>\n",
              "    <tr>\n",
              "      <th>mean</th>\n",
              "      <td>3.076998e+05</td>\n",
              "      <td>77.925443</td>\n",
              "      <td>2008.087544</td>\n",
              "      <td>74.466366</td>\n",
              "      <td>5156.851426</td>\n",
              "      <td>1.925713</td>\n",
              "      <td>71.486171</td>\n",
              "      <td>5156.851426</td>\n",
              "      <td>0.300400</td>\n",
              "      <td>2012.105803</td>\n",
              "      <td>501.649075</td>\n",
              "      <td>501.598799</td>\n",
              "      <td>513.378189</td>\n",
              "      <td>0.510490</td>\n",
              "      <td>353.102801</td>\n",
              "      <td>95.328414</td>\n",
              "      <td>90.742371</td>\n",
              "      <td>22.974737</td>\n",
              "      <td>16.478739</td>\n",
              "      <td>31.851176</td>\n",
              "      <td>2.683842</td>\n",
              "      <td>-0.037831</td>\n",
              "      <td>0.146496</td>\n",
              "      <td>0.002763</td>\n",
              "      <td>-0.169033</td>\n",
              "      <td>-0.138110</td>\n",
              "    </tr>\n",
              "    <tr>\n",
              "      <th>std</th>\n",
              "      <td>2.127375e+05</td>\n",
              "      <td>9.850162</td>\n",
              "      <td>1.653599</td>\n",
              "      <td>10.999933</td>\n",
              "      <td>4802.261482</td>\n",
              "      <td>0.262270</td>\n",
              "      <td>8.167338</td>\n",
              "      <td>4802.261482</td>\n",
              "      <td>0.458489</td>\n",
              "      <td>31.857271</td>\n",
              "      <td>104.940021</td>\n",
              "      <td>86.783297</td>\n",
              "      <td>122.302332</td>\n",
              "      <td>0.468671</td>\n",
              "      <td>205.355519</td>\n",
              "      <td>158.241218</td>\n",
              "      <td>175.273083</td>\n",
              "      <td>98.123311</td>\n",
              "      <td>87.585634</td>\n",
              "      <td>104.852845</td>\n",
              "      <td>36.658505</td>\n",
              "      <td>1.028666</td>\n",
              "      <td>0.941782</td>\n",
              "      <td>0.951471</td>\n",
              "      <td>1.007580</td>\n",
              "      <td>1.008075</td>\n",
              "    </tr>\n",
              "    <tr>\n",
              "      <th>min</th>\n",
              "      <td>3.500000e+04</td>\n",
              "      <td>43.000000</td>\n",
              "      <td>1995.000000</td>\n",
              "      <td>40.000000</td>\n",
              "      <td>2.000000</td>\n",
              "      <td>1.000000</td>\n",
              "      <td>6.450000</td>\n",
              "      <td>2.000000</td>\n",
              "      <td>0.000000</td>\n",
              "      <td>0.000000</td>\n",
              "      <td>180.000000</td>\n",
              "      <td>195.000000</td>\n",
              "      <td>120.000000</td>\n",
              "      <td>-1.000000</td>\n",
              "      <td>-1.000000</td>\n",
              "      <td>-1.000000</td>\n",
              "      <td>-1.000000</td>\n",
              "      <td>-1.000000</td>\n",
              "      <td>-1.000000</td>\n",
              "      <td>-1.000000</td>\n",
              "      <td>-1.000000</td>\n",
              "      <td>-4.126700</td>\n",
              "      <td>-5.781600</td>\n",
              "      <td>-4.600900</td>\n",
              "      <td>-2.643000</td>\n",
              "      <td>-7.375700</td>\n",
              "    </tr>\n",
              "    <tr>\n",
              "      <th>25%</th>\n",
              "      <td>1.800000e+05</td>\n",
              "      <td>71.680000</td>\n",
              "      <td>2007.000000</td>\n",
              "      <td>66.000000</td>\n",
              "      <td>494.000000</td>\n",
              "      <td>2.000000</td>\n",
              "      <td>66.407500</td>\n",
              "      <td>494.000000</td>\n",
              "      <td>0.000000</td>\n",
              "      <td>2012.000000</td>\n",
              "      <td>425.000000</td>\n",
              "      <td>445.000000</td>\n",
              "      <td>430.000000</td>\n",
              "      <td>0.342315</td>\n",
              "      <td>295.000000</td>\n",
              "      <td>-1.000000</td>\n",
              "      <td>-1.000000</td>\n",
              "      <td>-1.000000</td>\n",
              "      <td>-1.000000</td>\n",
              "      <td>-1.000000</td>\n",
              "      <td>-1.000000</td>\n",
              "      <td>-0.713525</td>\n",
              "      <td>-0.287100</td>\n",
              "      <td>-0.604800</td>\n",
              "      <td>-0.868200</td>\n",
              "      <td>-0.669200</td>\n",
              "    </tr>\n",
              "    <tr>\n",
              "      <th>50%</th>\n",
              "      <td>3.000000e+05</td>\n",
              "      <td>79.150000</td>\n",
              "      <td>2008.000000</td>\n",
              "      <td>74.400000</td>\n",
              "      <td>3879.000000</td>\n",
              "      <td>2.000000</td>\n",
              "      <td>71.720000</td>\n",
              "      <td>3879.000000</td>\n",
              "      <td>0.000000</td>\n",
              "      <td>2013.000000</td>\n",
              "      <td>500.000000</td>\n",
              "      <td>505.000000</td>\n",
              "      <td>515.000000</td>\n",
              "      <td>0.622643</td>\n",
              "      <td>415.000000</td>\n",
              "      <td>-1.000000</td>\n",
              "      <td>-1.000000</td>\n",
              "      <td>-1.000000</td>\n",
              "      <td>-1.000000</td>\n",
              "      <td>-1.000000</td>\n",
              "      <td>-1.000000</td>\n",
              "      <td>0.046400</td>\n",
              "      <td>0.212400</td>\n",
              "      <td>0.091400</td>\n",
              "      <td>-0.234400</td>\n",
              "      <td>-0.094300</td>\n",
              "    </tr>\n",
              "    <tr>\n",
              "      <th>75%</th>\n",
              "      <td>3.700000e+05</td>\n",
              "      <td>85.670000</td>\n",
              "      <td>2009.000000</td>\n",
              "      <td>82.600000</td>\n",
              "      <td>8818.000000</td>\n",
              "      <td>2.000000</td>\n",
              "      <td>76.327500</td>\n",
              "      <td>8818.000000</td>\n",
              "      <td>1.000000</td>\n",
              "      <td>2014.000000</td>\n",
              "      <td>570.000000</td>\n",
              "      <td>565.000000</td>\n",
              "      <td>595.000000</td>\n",
              "      <td>0.842248</td>\n",
              "      <td>495.000000</td>\n",
              "      <td>233.000000</td>\n",
              "      <td>-1.000000</td>\n",
              "      <td>-1.000000</td>\n",
              "      <td>-1.000000</td>\n",
              "      <td>-1.000000</td>\n",
              "      <td>-1.000000</td>\n",
              "      <td>0.702700</td>\n",
              "      <td>0.812800</td>\n",
              "      <td>0.672000</td>\n",
              "      <td>0.526200</td>\n",
              "      <td>0.502400</td>\n",
              "    </tr>\n",
              "    <tr>\n",
              "      <th>max</th>\n",
              "      <td>4.000000e+06</td>\n",
              "      <td>97.760000</td>\n",
              "      <td>2013.000000</td>\n",
              "      <td>98.700000</td>\n",
              "      <td>18409.000000</td>\n",
              "      <td>2.000000</td>\n",
              "      <td>99.930000</td>\n",
              "      <td>18409.000000</td>\n",
              "      <td>1.000000</td>\n",
              "      <td>2017.000000</td>\n",
              "      <td>875.000000</td>\n",
              "      <td>795.000000</td>\n",
              "      <td>900.000000</td>\n",
              "      <td>0.999910</td>\n",
              "      <td>840.000000</td>\n",
              "      <td>612.000000</td>\n",
              "      <td>715.000000</td>\n",
              "      <td>623.000000</td>\n",
              "      <td>676.000000</td>\n",
              "      <td>548.000000</td>\n",
              "      <td>516.000000</td>\n",
              "      <td>1.995300</td>\n",
              "      <td>1.904800</td>\n",
              "      <td>2.535400</td>\n",
              "      <td>3.352500</td>\n",
              "      <td>1.822400</td>\n",
              "    </tr>\n",
              "  </tbody>\n",
              "</table>\n",
              "</div>"
            ],
            "text/plain": [
              "             Salary  10percentage  ...  nueroticism  openess_to_experience\n",
              "count  3.998000e+03   3998.000000  ...  3998.000000            3998.000000\n",
              "mean   3.076998e+05     77.925443  ...    -0.169033              -0.138110\n",
              "std    2.127375e+05      9.850162  ...     1.007580               1.008075\n",
              "min    3.500000e+04     43.000000  ...    -2.643000              -7.375700\n",
              "25%    1.800000e+05     71.680000  ...    -0.868200              -0.669200\n",
              "50%    3.000000e+05     79.150000  ...    -0.234400              -0.094300\n",
              "75%    3.700000e+05     85.670000  ...     0.526200               0.502400\n",
              "max    4.000000e+06     97.760000  ...     3.352500               1.822400\n",
              "\n",
              "[8 rows x 26 columns]"
            ]
          },
          "metadata": {
            "tags": []
          },
          "execution_count": 28
        }
      ]
    },
    {
      "cell_type": "code",
      "metadata": {
        "id": "6kD0gdA_28gs"
      },
      "source": [
        "X = dataset.iloc[:, 2:].values\n",
        "y = dataset.iloc[:, 1 ].values"
      ],
      "execution_count": null,
      "outputs": []
    },
    {
      "cell_type": "code",
      "metadata": {
        "colab": {
          "base_uri": "https://localhost:8080/"
        },
        "id": "zUgAHQDe6JO2",
        "outputId": "97e09c55-a556-4a9b-822d-39499457556b"
      },
      "source": [
        "print(X)"
      ],
      "execution_count": null,
      "outputs": [
        {
          "output_type": "stream",
          "text": [
            "[[Timestamp('2012-06-01 00:00:00') 'present' 'senior quality engineer'\n",
            "  ... 0.5269 1.3549 -0.4455]\n",
            " [Timestamp('2013-09-01 00:00:00') 'present' 'assistant manager' ...\n",
            "  1.2396 -0.1076 0.8637]\n",
            " [Timestamp('2014-06-01 00:00:00') 'present' 'systems engineer' ...\n",
            "  0.1637 -0.8682 0.6721]\n",
            " ...\n",
            " [Timestamp('2013-07-01 00:00:00') 'present'\n",
            "  'associate software engineer' ... -1.5051 -1.3184 -0.7615]\n",
            " [Timestamp('2014-07-01 00:00:00') datetime.datetime(2015, 1, 1, 0, 0)\n",
            "  'software developer' ... -0.4511 -0.3612 -0.0943]\n",
            " [Timestamp('2013-02-01 00:00:00') 'present' 'senior systems engineer'\n",
            "  ... -0.6343 1.32552999999999 -0.6035]]\n"
          ],
          "name": "stdout"
        }
      ]
    },
    {
      "cell_type": "code",
      "metadata": {
        "colab": {
          "base_uri": "https://localhost:8080/"
        },
        "id": "hAlmBitQ6SSX",
        "outputId": "6b973c63-020f-43a7-fb4c-8a08b44b38b7"
      },
      "source": [
        "print(y)"
      ],
      "execution_count": null,
      "outputs": [
        {
          "output_type": "stream",
          "text": [
            "[420000 500000 325000 ... 320000 200000 400000]\n"
          ],
          "name": "stdout"
        }
      ]
    },
    {
      "cell_type": "markdown",
      "metadata": {
        "id": "7eB0EjE53Wh8"
      },
      "source": [
        "# Missing Data"
      ]
    },
    {
      "cell_type": "code",
      "metadata": {
        "colab": {
          "base_uri": "https://localhost:8080/"
        },
        "id": "sgDU2YJo3F9z",
        "outputId": "428e52d1-f565-4ee5-a95b-c31a1e5967a0"
      },
      "source": [
        "dataset.isnull().sum()"
      ],
      "execution_count": null,
      "outputs": [
        {
          "output_type": "execute_result",
          "data": {
            "text/plain": [
              "Unnamed: 0               0\n",
              "ID                       0\n",
              "Salary                   0\n",
              "DOJ                      0\n",
              "DOL                      0\n",
              "Designation              0\n",
              "JobCity                  0\n",
              "Gender                   0\n",
              "DOB                      0\n",
              "10percentage             0\n",
              "10board                  0\n",
              "12graduation             0\n",
              "12percentage             0\n",
              "12board                  0\n",
              "CollegeID                0\n",
              "CollegeTier              0\n",
              "Degree                   0\n",
              "Specialization           0\n",
              "collegeGPA               0\n",
              "CollegeCityID            0\n",
              "CollegeCityTier          0\n",
              "CollegeState             0\n",
              "GraduationYear           0\n",
              "English                  0\n",
              "Logical                  0\n",
              "Quant                    0\n",
              "Domain                   0\n",
              "ComputerProgramming      0\n",
              "ElectronicsAndSemicon    0\n",
              "ComputerScience          0\n",
              "MechanicalEngg           0\n",
              "ElectricalEngg           0\n",
              "TelecomEngg              0\n",
              "CivilEngg                0\n",
              "conscientiousness        0\n",
              "agreeableness            0\n",
              "extraversion             0\n",
              "nueroticism              0\n",
              "openess_to_experience    0\n",
              "dtype: int64"
            ]
          },
          "metadata": {
            "tags": []
          },
          "execution_count": 12
        }
      ]
    },
    {
      "cell_type": "markdown",
      "metadata": {
        "id": "Ci0MKteX3aq0"
      },
      "source": [
        "**There is no missing Data in the given Dataset**"
      ]
    },
    {
      "cell_type": "markdown",
      "metadata": {
        "id": "pzw_JBAZ3yQh"
      },
      "source": [
        "# Encoding Categorical Data\n",
        "\n",
        "  **For Independent Variable**"
      ]
    },
    {
      "cell_type": "code",
      "metadata": {
        "id": "X3Gva8dD38vK"
      },
      "source": [
        "from sklearn.compose import ColumnTransformer\n",
        "from sklearn.preprocessing import OneHotEncoder\n",
        "ct = ColumnTransformer(transformers=[('encoder', OneHotEncoder(), [0])], remainder='passthrough')\n",
        "X = np.array(ct.fit_transform(X))"
      ],
      "execution_count": null,
      "outputs": []
    },
    {
      "cell_type": "code",
      "metadata": {
        "colab": {
          "base_uri": "https://localhost:8080/"
        },
        "id": "k_UwqCtb4UEs",
        "outputId": "dceb069f-bbda-4594-b969-c3c4071c82c9"
      },
      "source": [
        "print(X)"
      ],
      "execution_count": null,
      "outputs": [
        {
          "output_type": "stream",
          "text": [
            "[[0.0 0.0 0.0 ... 0.5269 1.3549 -0.4455]\n",
            " [0.0 0.0 0.0 ... 1.2396 -0.1076 0.8637]\n",
            " [0.0 0.0 0.0 ... 0.1637 -0.8682 0.6721]\n",
            " ...\n",
            " [0.0 0.0 0.0 ... -1.5051 -1.3184 -0.7615]\n",
            " [0.0 0.0 0.0 ... -0.4511 -0.3612 -0.0943]\n",
            " [0.0 0.0 0.0 ... -0.6343 1.32552999999999 -0.6035]]\n"
          ],
          "name": "stdout"
        }
      ]
    },
    {
      "cell_type": "markdown",
      "metadata": {
        "id": "VjgALD7i605t"
      },
      "source": [
        "# Splitting the Dataset to training set and test set\n"
      ]
    },
    {
      "cell_type": "code",
      "metadata": {
        "id": "6HkGjVIG64wZ"
      },
      "source": [
        "from sklearn.model_selection import train_test_split\n",
        "X_train, X_test, y_train, y_test = train_test_split(X, y, test_size = 0.2, random_state = 1)"
      ],
      "execution_count": null,
      "outputs": []
    },
    {
      "cell_type": "code",
      "metadata": {
        "colab": {
          "base_uri": "https://localhost:8080/"
        },
        "id": "av8HQyqv7ZfA",
        "outputId": "11b9603c-8cbc-424a-8cce-a52e71f30714"
      },
      "source": [
        "print(X_train)"
      ],
      "execution_count": null,
      "outputs": [
        {
          "output_type": "stream",
          "text": [
            "[[0.0 0.0 0.0 ... 0.8171 -0.9953 -0.7615]\n",
            " [0.0 0.0 0.0 ... 0.7785 -0.2344 -1.244]\n",
            " [0.0 0.0 0.0 ... 1.0859 2.1743 0.6721]\n",
            " ...\n",
            " [0.0 0.0 0.0 ... -0.9245 -0.6428 -0.6035]\n",
            " [0.0 0.0 0.0 ... 0.2366 0.2973 -0.2875]\n",
            " [0.0 0.0 0.0 ... -0.9245 -1.5828 0.6603]]\n"
          ],
          "name": "stdout"
        }
      ]
    },
    {
      "cell_type": "code",
      "metadata": {
        "colab": {
          "base_uri": "https://localhost:8080/"
        },
        "id": "mXBtF8s67dQH",
        "outputId": "2b2d678b-bccd-481b-d367-fead1bb7374a"
      },
      "source": [
        "print(X_test)"
      ],
      "execution_count": null,
      "outputs": [
        {
          "output_type": "stream",
          "text": [
            "[[0.0 0.0 0.0 ... -1.0697 0.1798 -0.6035]\n",
            " [0.0 0.0 0.0 ... -0.4511 -0.8682 -0.6692]\n",
            " [0.0 0.0 0.0 ... 0.7785 -1.5021 0.4805]\n",
            " ...\n",
            " [0.0 0.0 0.0 ... 0.4711 -1.8824 -0.6692]\n",
            " [0.0 0.0 0.0 ... 0.4711 0.3995 -1.0524]\n",
            " [0.0 0.0 0.0 ... -0.0537 -0.4078 0.9763]]\n"
          ],
          "name": "stdout"
        }
      ]
    },
    {
      "cell_type": "code",
      "metadata": {
        "colab": {
          "base_uri": "https://localhost:8080/"
        },
        "id": "iKus8T_C7hzt",
        "outputId": "b84a1981-8a4f-487f-a6a1-930342c43f72"
      },
      "source": [
        "print(y_train)"
      ],
      "execution_count": null,
      "outputs": [
        {
          "output_type": "stream",
          "text": [
            "[110000 340000 300000 ... 150000 120000 300000]\n"
          ],
          "name": "stdout"
        }
      ]
    },
    {
      "cell_type": "code",
      "metadata": {
        "colab": {
          "base_uri": "https://localhost:8080/"
        },
        "id": "PFMTu-aY7iCq",
        "outputId": "b6aba136-6303-4929-e977-cf2b23f60303"
      },
      "source": [
        "print(y_test)\n"
      ],
      "execution_count": null,
      "outputs": [
        {
          "output_type": "stream",
          "text": [
            "[ 440000  300000  325000  145000  180000  325000  400000  100000  500000\n",
            "  200000  310000  435000  450000  450000  500000  290000  505000   50000\n",
            "  620000  350000 3500000  450000  200000  305000  520000  330000  350000\n",
            "  180000  555000  240000  325000  205000  180000  210000  425000  180000\n",
            "  500000  375000  145000  430000  120000  600000  415000  240000  450000\n",
            "  415000  240000  190000  145000  190000  200000  355000  360000  450000\n",
            "  500000  120000  400000  180000  225000  380000  440000  300000  180000\n",
            "  305000  240000  325000  225000  120000  420000  150000  305000  275000\n",
            "  200000  335000  400000  450000  100000  300000  315000  140000  390000\n",
            "  200000  240000  300000  375000  330000  150000  310000  400000  630000\n",
            "  700000  320000  220000  405000  120000  650000  400000  100000  650000\n",
            "  320000  410000  250000  200000  600000  305000  275000  120000  250000\n",
            "  420000  360000  315000  360000  180000  310000  510000  520000 1200000\n",
            "  375000  380000  420000  305000  145000  180000  385000  375000  300000\n",
            "  445000  150000  100000  910000  190000   45000  530000  415000  180000\n",
            "  200000  300000  105000  120000  325000  145000  120000  600000  250000\n",
            "  150000  700000  300000  325000  300000  370000  180000  145000  415000\n",
            "  290000  120000  300000  300000  410000  215000  240000  120000  325000\n",
            "  315000  200000  335000  355000 2020000  435000  400000  335000  150000\n",
            "  185000  325000  470000  450000  390000  120000  275000  110000  350000\n",
            "  275000  275000  430000  180000  225000  180000  515000  330000  215000\n",
            "  250000  320000  225000  250000  360000  300000  400000 1100000  300000\n",
            "  200000  100000  395000  250000  310000  180000  195000  325000  170000\n",
            "  450000  180000  325000  145000  315000  200000  320000  350000  200000\n",
            "  450000  240000  300000  320000  240000  400000  180000  240000  365000\n",
            "  520000  500000  225000  200000  200000  120000  150000  325000  240000\n",
            "  300000  275000  335000  240000  300000   80000  150000  555000  175000\n",
            "  305000  340000  300000  225000  325000  350000  300000  120000 2000000\n",
            "  310000  240000  360000  150000  120000  240000  335000  105000  800000\n",
            "  175000  615000  300000  140000  180000  200000  110000  420000  310000\n",
            "  505000  230000  200000  355000  200000  240000  400000  590000  105000\n",
            "  105000  325000  250000  355000 2300000  325000  240000  120000  240000\n",
            "  330000  100000  325000  340000  180000  410000  810000  325000  180000\n",
            "  400000  145000  320000  225000  300000  330000  240000  325000  500000\n",
            "  200000  170000  340000  300000  120000  180000  205000  700000  325000\n",
            "  325000  145000  275000  180000  200000   50000  175000  400000  105000\n",
            "  415000  180000  120000  120000  240000  300000   35000  240000  180000\n",
            "  320000  450000   45000  300000  280000  390000  500000  160000  480000\n",
            "  300000  325000  200000 1050000  220000   85000  200000  170000  730000\n",
            "  390000  200000  480000  185000  370000  300000  435000  200000  400000\n",
            "  145000  335000  150000  355000  145000  200000  410000  175000  100000\n",
            "  455000  480000  325000  100000  305000  330000  450000  225000  330000\n",
            " 1210000  240000  100000  370000  300000  350000  145000  200000  165000\n",
            "  610000  200000  385000  385000  300000  170000  325000  320000  180000\n",
            "  100000  145000  405000  405000  500000  420000  310000  505000  200000\n",
            "  550000  180000  350000  200000  450000  310000  150000  800000  220000\n",
            "  350000  290000  120000  270000  400000  180000  120000  180000  415000\n",
            "  180000  130000  110000  100000  570000  144000   75000  180000  180000\n",
            "  180000   90000 1300000  300000  300000  150000  370000  325000   70000\n",
            "  200000  350000  630000  360000  180000  200000  400000  120000  480000\n",
            "  350000  400000  160000  325000  335000  550000  420000  465000  325000\n",
            "  180000  510000  110000  400000  325000  265000  150000  145000  380000\n",
            "  115000  335000  150000 1000000  315000   85000  180000  410000  300000\n",
            "  195000  350000  350000  720000  180000  240000   95000  300000  240000\n",
            "  225000  180000  320000   95000  120000  145000  240000  155000  325000\n",
            "  150000  325000  400000  180000  330000  125000  600000  240000  165000\n",
            "  120000  240000  300000  460000  335000  180000   95000  100000  180000\n",
            "  475000 1110000  325000  100000  200000  400000  120000  300000  180000\n",
            "  325000  430000 1100000  260000  400000  390000  390000  405000  215000\n",
            "  600000  165000  315000  650000  455000  335000  400000  240000  205000\n",
            "  180000  325000  250000  300000  200000  550000  240000  500000  350000\n",
            "  240000  320000   80000  280000  445000  320000  200000  360000  600000\n",
            "  450000  400000  235000  450000  210000   90000  455000  240000  320000\n",
            "  300000  200000   85000  280000  400000   60000  240000  240000  820000\n",
            "  275000  210000 1200000  460000  495000  135000  320000  215000  340000\n",
            "  325000  410000  320000  180000  180000  325000  415000  205000  335000\n",
            "  150000  300000  420000  145000  335000  325000   35000  180000  400000\n",
            "  150000  220000  400000  225000  110000  320000  475000  240000  310000\n",
            "  560000  560000  630000  320000  275000  315000  180000  120000  180000\n",
            "  220000  400000  120000  470000  350000  120000  600000  180000  215000\n",
            "  320000  180000  200000  325000  120000  350000  205000  250000  380000\n",
            "  390000  155000  120000  260000  300000  325000  340000  170000  470000\n",
            "  200000  100000  300000  335000  300000  325000  200000  230000  370000\n",
            "  360000  240000  300000  250000  305000  110000  385000  200000  145000\n",
            "  315000  240000  300000  400000  315000   95000  140000  280000  375000\n",
            "  145000  105000  250000  185000  180000  255000  345000 1200000  180000\n",
            "   70000  100000  235000  500000  205000  400000  185000  540000  400000\n",
            "  325000  300000  180000  165000  480000   85000  355000  400000  160000\n",
            "  400000  180000  330000  620000  200000  380000  320000  350000  180000\n",
            "  200000  360000  350000  220000  325000  105000  310000  250000  310000\n",
            "  325000  275000  150000  400000  120000  325000  340000  100000  250000\n",
            "  185000  320000  240000  180000  375000  100000  280000  390000  340000\n",
            "  170000  105000  270000  470000  425000  310000  180000  500000  305000\n",
            "  300000  240000  335000  400000  180000  325000  200000  330000  280000\n",
            "  300000  200000  240000  360000  200000  350000  580000  260000  370000\n",
            "  120000  380000  300000  110000  120000  300000  220000  300000   80000\n",
            "  320000  170000  565000  240000  360000  240000  325000  180000  300000\n",
            "  415000  335000  335000  300000 3000000  135000  120000  350000  555000\n",
            "  300000  450000  420000  300000  200000  325000  275000  200000]\n"
          ],
          "name": "stdout"
        }
      ]
    }
  ]
}